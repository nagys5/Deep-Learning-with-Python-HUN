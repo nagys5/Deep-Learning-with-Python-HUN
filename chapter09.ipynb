{
 "cells": [
  {
   "cell_type": "markdown",
   "metadata": {
    "id": "yt49ToBcdeNd"
   },
   "source": [
    "# **9. Haladó mély tanulás a gépi látáshoz**\n",
    "\n",
    "Ez a fejezet ezekkel foglalkozik:\n",
    "* A gépi látás különböző ágai: képosztályozás, képszegmentálás, tárgydetektálás\n",
    "* Modern convnet architektúra minták: maradék kapcsolatok, köteg normalizálás, mélységben szétválasztható konvolúciók\n",
    "* Technikák a convnet által tanultak megjelenítésére és értelmezésére\n",
    "\n",
    "Az előző fejezetben először bemutattuk a gépi látás mély tanulását egyszerű modelleken (`Conv2D` és `MaxPooling2D` rétegek halmaza) és egy egyszerű használati eseten (bináris képosztályozás) keresztül. De a gépi látás többről szól, mint a képbesorolás! Ez a fejezet mélyebben belemerül a változatosabb alkalmazásokba és a legjobb haladó gyakorlatokba."
   ]
  },
  {
   "cell_type": "markdown",
   "metadata": {
    "id": "CwJsMXlhgThu"
   },
   "source": [
    "## 9.1 A három alapvető (számítógépes) gépi látási feladat\n",
    "\n",
    "Eddig a képbesorolási modellekre koncentráltunk: egy kép bemegy, egy címke jön ki. „Ez a kép valószínűleg egy macskát tartalmaz; ezen a másikon valószínűleg egy kutya van.\" A képosztályozás azonban csak egy a gépi látás lehetséges mélytanulási alkalmazásai közül. Általában három alapvető gépi látási feladatot kell ismernie:\n",
    "* _Képosztályozás_ – Ahol a cél egy vagy több címke hozzárendelése egy képhez. Ez lehet egycímkés besorolás (egy kép csak egy kategóriába tartozhat, a többit nem vesszük figyelembe), vagy többcímkés besorolás (minden kategória felcímkézése, amelyhez egy kép tartozik, amint az a 9.1. ábrán látható). Például, amikor kulcsszóra keresünk a Google Fotók alkalmazásban, a kulisszák mögött egy nagyon nagy, többcímkés osztályozási modellt kérdezünk le – egy olyan modellt, amely több mint 20 000 különböző osztályt tartalmaz, amelyek több millió képpel vannak betanítva.\n",
    "* _Képszegmentálás_ – ahol a cél egy kép „szegmentálása” vagy „felosztása” különböző területekre, ahol minden terület általában egy kategóriát képvisel (amint a 9.1. ábrán látható). Például amikor a Zoom vagy a Google Meet egyéni hátteret jelenít meg mögötted egy videohívásban, akkor egy képszegmentációs modellt használ, hogy pixel pontossággal meg tudja különböztetni az arcot aattól ami mögötte van.\n",
    "* _Tárgyérzékelés_ – A cél az, hogy téglalapokat (úgynevezett határolókereteket) rajzoljunk a kép érdekes objektumai köré, és minden téglalapot társítsunk egy osztályhoz. Egy önvezető autó objektumérzékelő modellt használhat például az autók, a gyalogosok és a táblák megfigyelésére a kameráinak a látképei alapján."
   ]
  },
  {
   "cell_type": "markdown",
   "metadata": {
    "id": "213iU10zxTTd"
   },
   "source": [
    "![osztályozás, szegmentálás, észlelés](figs/f9.1_.jpg)\n",
    "\n",
    "**9.1. ábra:** A gépi látás három fő feladata: osztályozás, szegmentálás, észlelés"
   ]
  },
  {
   "cell_type": "markdown",
   "metadata": {
    "id": "ntITXLOWJblI"
   },
   "source": [
    "A gépi látás mély tanulása ezen a háromon kívül számos, némileg szűkebb feladatot is magában foglal, mint például a képhasonlósági pontozás (a két kép vizuális hasonlóságának becslése), a kulcspontok felismerése (a képen az érdeklődésre számot tartó attribútumok, például az arcvonások meghatározása), pózbecslés, 3D mesh becslés stb. Kezdetben azonban a képosztályozás, a képszegmentálás és az objektumészlelés jelenti azt az alapot, amelyet minden gépi tanulási mérnöknek ismernie kell. A legtöbb gépilátási alkalmazás e három egyikére csapódik le.\n",
    "\n",
    "Az előző fejezetben már láttuk a képbesorolást működés közben. Ezután merüljünk el a képszegmentálásban. Ez egy nagyon hasznos és sokoldalú technika, és egyenesen meg lehet közelíteni az eddig tanultakkal.\n",
    "\n",
    "Ne feledje, hogy nem térünk ki az objektumészlelésre, mert az túl speciális és túl bonyolult lenne egy bevezető könyvhöz. Azonban megtekintheti a RetinaNet példáját a keras.io webhelyen, amely bemutatja, hogyan lehet objektumészlelési modellt felépíteni a semmiből és betanítani a Kerasban körülbelül 450 kódsorral (https://keras.io/examples/vision/retinanet/ )."
   ]
  },
  {
   "cell_type": "markdown",
   "metadata": {
    "id": "B4QQveHnMUeC"
   },
   "source": [
    "## 9.2 Példa a képszegmentálásra\n",
    "\n",
    "A képszegmentálás mély tanulással azt jelenti, hogy egy modell segítségével osztályt rendelünk a kép minden pixeléhez, így a képet különböző zónákra felosztva (például „háttér” és „előtér” vagy „út”, „autó” és „ járda\"). A technikák ezen általános kategóriája számos hasznos alkalmazás működtetésére használható a kép- és videószerkesztésben, az önvezetésben, a robotikában, az orvosi képalkotásban és így tovább.\n",
    "\n",
    "A képszegmentálásnak két különböző változata van, amelyekről tudnunk kell:\n",
    "* _Szemantikai szegmentálás_, ahol minden képpont egymástól függetlenül egy jelentéstani kategóriába van besorolva, például „macska”. Ha két macska van a képen, a megfelelő pixelek ugyanahhoz az általános „macska” kategóriához vannak hozzárendelve (lásd a 9.2. ábrát).\n",
    "* _Példányszegmentálás_, amely nem csak a képpixelek kategóriák szerinti osztályozására törekszik, hanem az egyes objektumpéldányok elemzésére is. Egy két macskát tartalmazó képen a példányszegmentálás az „1. macska”-t és a „2. macska”-t a pixelek két külön osztályaként kezelné (lásd a 9.2. ábrát).\n",
    "\n",
    "Ebben a példában a szemantikai szegmentációra összpontosítunk: ismét macskák és kutyák képeit nézzük, és ezúttal megtanuljuk, hogyan lehet megkülönböztetni a fő témát és annak hátterét.\n",
    "\n",
    "Az Oxford-IIIT Pets adatkészlettel (www.robots.ox.ac.uk/~vgg/data/pets/) fogunk dolgozni, amely 7390 képet tartalmaz különböző fajtájú macskákról és kutyákról, valamint előtér-háttér _szegmentáló maszkokat_ minden egyes képhez. A szegmentációs maszk a címke képszegmentálási megfelelője: ez egy olyan kép, amely megegyezik a bemeneti képpel, de csak egyetlen színcsatornával, ahol minden egész érték a bemeneti kép megfelelő pixel osztályának felel meg. Esetünkben a szegmentációs maszkjaink képpontjai a következő három egész érték valamelyikét vehetik fel:\n",
    "* 1 (előtér)\n",
    "* 2 (háttér)\n",
    "* 3 (kontúr)\n",
    "​"
   ]
  },
  {
   "cell_type": "markdown",
   "metadata": {
    "id": "M8fIDVrjSExM"
   },
   "source": [
    "![](figs/f9.2_.jpg)\n",
    "\n",
    "**9.2. ábra:** Szemantikus szegmentálás kontra példányszegmentálás"
   ]
  },
  {
   "cell_type": "markdown",
   "metadata": {
    "id": "1m2xAUtsTl4U"
   },
   "source": [
    "Kezdjük adatkészletünk letöltésével és kibontásával a wget és tar shell segédprogramok használatával:\n",
    "```\n",
    "!wget http:/ /www.robots.ox.ac.uk/~vgg/data/pets/data/images.tar.gz\n",
    "!wget http://www.robots.ox.ac.uk/~vgg/data/pets/data/annotations.tar.gz\n",
    "!tar -xf images.tar.gz\n",
    "!tar -xf annotations.tar.gz\n",
    "```\n",
    "A bemeneti képek JPG fájlokként kerülnek tárolásra az images/ mappában (például images/Abyssinian_1.jpg), a megfelelő szegmentációs maszk pedig azonos nevű PNG-fájlként az annotations/trimaps/ mappában (például annotations/ trimaps/Abyssinian_1.png).\n",
    "\n",
    "Készítsük el a bemeneti fájl útvonalak listáját, valamint a megfelelő maszkfájl útvonalak listáját:"
   ]
  },
  {
   "cell_type": "code",
   "execution_count": null,
   "metadata": {
    "id": "dcN7zVz4dB4g"
   },
   "outputs": [],
   "source": [
    "import os\n",
    "\n",
    "input_dir = \"images/\"\n",
    "target_dir = \"annotations/trimaps/\"\n",
    "\n",
    "input_img_paths = sorted(\n",
    "    [os.path.join(input_dir, fname)\n",
    "     for fname in os.listdir(input_dir)\n",
    "     if fname.endswith(\".jpg\")])\n",
    "\n",
    "target_paths = sorted(\n",
    "    [os.path.join(target_dir, fname)\n",
    "     for fname in os.listdir(target_dir)\n",
    "     if fname.endswith(\".png\") and not fname.startswith(\".\")])"
   ]
  },
  {
   "cell_type": "markdown",
   "metadata": {
    "id": "FJhNtgLwVLLb"
   },
   "source": [
    "Most hogyan néz ki az egyik ilyen bemenet és a maszkja? Vessünk rá egy gyors pillantást. Íme egy mintakép (lásd a 9.3. ábrát):"
   ]
  },
  {
   "cell_type": "markdown",
   "metadata": {
    "id": "JYKmw5wnZ3Dy"
   },
   "source": [
    "![](figs/f9.3_.jpg)\n",
    "\n",
    "**9.3. ábra:** Egy példakép"
   ]
  },
  {
   "cell_type": "code",
   "execution_count": null,
   "metadata": {
    "id": "RwNEX13LajwX"
   },
   "outputs": [],
   "source": [
    "import matplotlib.pyplot as plt\n",
    "from tensorflow.keras.utils import load_img, img_to_array\n",
    "\n",
    "plt.axis(\"off\")\n",
    "plt.imshow(load_img(input_img_paths[9]))    #<--- A 9-es számú bemeneti kép megjelenítése.\n",
    "\n",
    "def display_target(target_array):\n",
    "    normalized_array = (target_array.astype(\"uint8\") - 1) * 127 #<--- Az eredeti címkék 1, 2 és 3. Kivonunk 1-et,\n",
    "                                                                #     hogy a címkék 0 és 2 között legyenek,\n",
    "                                                                #     majd megszorozzuk 127-tel, így a címkék 0-ra (fekete),\n",
    "                                                                #     127-re (szürke), 254-re (majdnem fehérre) váltanak.\n",
    "    plt.axis(\"off\")\n",
    "    plt.imshow(normalized_array[:, :, 0])\n",
    "\n",
    "img = img_to_array(load_img(target_paths[9], color_mode=\"grayscale\")) #<--- A color_mode=\"grayscale\"-t használjuk, így\n",
    "                                                                      #     a betöltött képet egyetlen színcsatornaként kezeljük.\n",
    "display_target(img)"
   ]
  },
  {
   "cell_type": "markdown",
   "metadata": {
    "id": "VRVmFXFUbJdS"
   },
   "source": [
    "És itt van a megfelelő cél (lásd a 9.4. ábrát):"
   ]
  },
  {
   "cell_type": "markdown",
   "metadata": {
    "id": "i4gH4TWjbmYB"
   },
   "source": [
    "![](figs/f9.4_.jpg)\n",
    "\n",
    "**9.4. ábra:** A megfelelő célmaszk"
   ]
  },
  {
   "cell_type": "markdown",
   "metadata": {
    "id": "0neX6HxBfMCE"
   },
   "source": [
    "Ezután töltsük be a bemeneteinket és a célokat két NumPy tömbbe, és osszuk fel a tömböket egy képzési és egy érvényesítési halmazra. Mivel az adatkészlet nagyon kicsi, mindent be tudunk tölteni a memóriába:"
   ]
  },
  {
   "cell_type": "code",
   "execution_count": null,
   "metadata": {
    "id": "aO5XJJdOkfa6"
   },
   "outputs": [],
   "source": [
    "import numpy as np\n",
    "import random\n",
    "\n",
    "img_size = (200, 200)           #<--- Mindent átméretezünk 200 × 200-ra.\n",
    "num_imgs = len(input_img_paths) #<--- Az adatokban szereplő minták teljes száma\n",
    "\n",
    "random.Random(1337).shuffle(input_img_paths)  #<--- Keverje meg a fájl elérési útját (eredetileg fajták szerint rendezték őket).\n",
    "random.Random(1337).shuffle(target_paths)     #     Mindkét utasításban ugyanazt a magot (1337) használjuk annak biztosítására,\n",
    "                                              #     hogy a bemeneti útvonalak és a cél útvonalak ugyanabban a sorrendben maradjanak.\n",
    "def path_to_input_image(path):\n",
    "    return img_to_array(load_img(path, target_size=img_size))\n",
    "\n",
    "def path_to_target(path):\n",
    "    img = img_to_array(\n",
    "        load_img(path, target_size=img_size, color_mode=\"grayscale\"))\n",
    "    img = img.astype(\"uint8\") - 1             #<--- Vonjunk ki 1-et, hogy a címkéink 0, 1 és 2 legyenek.\n",
    "    return img\n",
    "\n",
    "input_imgs = np.zeros((num_imgs,) + img_size + (3,), dtype=\"float32\") #<--- Töltse be az input_imgs float32 tömbben található\n",
    "targets = np.zeros((num_imgs,) + img_size + (1,), dtype=\"uint8\")      #     összes képet és a maszkjaikat a targets uint8 tömbbe\n",
    "for i in range(num_imgs):                                             #     (ugyanabban a sorrendben). A bemeneteknek három\n",
    "    input_imgs[i] = path_to_input_image(input_img_paths[i])           #     csatornájuk van (RBG értékek), a célpontoknak pedig\n",
    "    targets[i] = path_to_target(target_paths[i])                      #     egyetlen csatornájuk van (amely egész számokat tartalmaz).\n",
    "\n",
    "num_val_samples = 1000                            #<--- Tartson fenn 1000 mintát az érvényesítéshez.\n",
    "train_input_imgs = input_imgs[:-num_val_samples]  #<--- Ossza fel az adatokat egy képzési\n",
    "train_targets = targets[:-num_val_samples]        #     és egy érvényesítési halmazra.\n",
    "val_input_imgs = input_imgs[-num_val_samples:]    #\n",
    "val_targets = targets[-num_val_samples:]          #"
   ]
  },
  {
   "cell_type": "markdown",
   "metadata": {
    "id": "5MchGwzpeeIq"
   },
   "source": [
    "Most itt az ideje, hogy definiáljuk a modellünket:"
   ]
  },
  {
   "cell_type": "code",
   "execution_count": null,
   "metadata": {
    "id": "HH_fJ7q4ek72"
   },
   "outputs": [],
   "source": [
    "from tensorflow import keras\n",
    "from tensorflow.keras import layers\n",
    "\n",
    "def get_model(img_size, num_classes):\n",
    "    inputs = keras.Input(shape=img_size + (3,))\n",
    "    x = layers.Rescaling(1./255)(inputs)        #<--- Ne felejtse el átméretezni a bemeneti képeket [0-1] tartományra.\n",
    "\n",
    "    x = layers.Conv2D(64, 3, strides=2, activation=\"relu\", padding=\"same\")(x) #<--- Jegyezze meg, hogy mindenhol a\n",
    "                                                                              #     padding=\"same\"-et használjuk, hogy\n",
    "                                                                              #     elkerüljüka szegélyek kitöltésének\n",
    "                                                                              #     hatását a jellemzőtérkép méretére.\n",
    "    x = layers.Conv2D(64, 3, activation=\"relu\", padding=\"same\")(x)\n",
    "    x = layers.Conv2D(128, 3, strides=2, activation=\"relu\", padding=\"same\")(x)\n",
    "    x = layers.Conv2D(128, 3, activation=\"relu\", padding=\"same\")(x)\n",
    "    x = layers.Conv2D(256, 3, strides=2, padding=\"same\", activation=\"relu\")(x)\n",
    "    x = layers.Conv2D(256, 3, activation=\"relu\", padding=\"same\")(x)\n",
    "\n",
    "    x = layers.Conv2DTranspose(256, 3, activation=\"relu\", padding=\"same\")(x)\n",
    "    x = layers.Conv2DTranspose(\n",
    "        256, 3, activation=\"relu\", padding=\"same\", strides=2)(x)\n",
    "    x = layers.Conv2DTranspose(128, 3, activation=\"relu\", padding=\"same\")(x)\n",
    "    x = layers.Conv2DTranspose(\n",
    "        128, 3, activation=\"relu\", padding=\"same\", strides=2)(x)\n",
    "    x = layers.Conv2DTranspose(64, 3, activation=\"relu\", padding=\"same\")(x)\n",
    "    x = layers.Conv2DTranspose(\n",
    "        64, 3, activation=\"relu\", padding=\"same\", strides=2)(x)\n",
    "\n",
    "    outputs = layers.Conv2D(num_classes, 3, activation=\"softmax\",   #<--- A modellt egy pixelenkénti háromutas softmax-szal\n",
    "     padding=\"same\")(x)                                             #     zárjuk, hogy minden kimeneti pixelt a három kategória\n",
    "                                                                    #     valamelyikébe soroljunk.\n",
    "    model = keras.Model(inputs, outputs)\n",
    "    return model\n",
    "\n",
    "model = get_model(img_size=img_size, num_classes=3)\n",
    "model.summary()"
   ]
  },
  {
   "cell_type": "markdown",
   "metadata": {
    "id": "L1tjyTVJjspv"
   },
   "source": [
    "Íme a `model.summary()` hívás kimenete:\n",
    "\n",
    "```\n",
    "Model: \"model\"\n",
    "_________________________________________________________________\n",
    "Layer (type)                 Output Shape              Param #\n",
    "=================================================================\n",
    "input_1 (InputLayer)         [(None, 200, 200, 3)]     0\n",
    "_________________________________________________________________\n",
    "rescaling (Rescaling)        (None, 200, 200, 3)       0\n",
    "_________________________________________________________________\n",
    "conv2d (Conv2D)              (None, 100, 100, 64)      1792\n",
    "_________________________________________________________________\n",
    "conv2d_1 (Conv2D)            (None, 100, 100, 64)      36928\n",
    "_________________________________________________________________\n",
    "conv2d_2 (Conv2D)            (None, 50, 50, 128)       73856\n",
    "_________________________________________________________________\n",
    "conv2d_3 (Conv2D)            (None, 50, 50, 128)       147584\n",
    "_________________________________________________________________\n",
    "conv2d_4 (Conv2D)            (None, 25, 25, 256)       295168\n",
    "_________________________________________________________________\n",
    "conv2d_5 (Conv2D)            (None, 25, 25, 256)       590080\n",
    "_________________________________________________________________\n",
    "conv2d_transpose (Conv2DTran (None, 25, 25, 256)       590080\n",
    "_________________________________________________________________\n",
    "conv2d_transpose_1 (Conv2DTr (None, 50, 50, 256)       590080\n",
    "_________________________________________________________________\n",
    "conv2d_transpose_2 (Conv2DTr (None, 50, 50, 128)       295040\n",
    "_________________________________________________________________\n",
    "conv2d_transpose_3 (Conv2DTr (None, 100, 100, 128)     147584\n",
    "_________________________________________________________________\n",
    "conv2d_transpose_4 (Conv2DTr (None, 100, 100, 64)      73792\n",
    "_________________________________________________________________\n",
    "conv2d_transpose_5 (Conv2DTr (None, 200, 200, 64)      36928\n",
    "_________________________________________________________________\n",
    "conv2d_6 (Conv2D)            (None, 200, 200, 3)       1731\n",
    "=================================================================\n",
    "Total params: 2,880,643\n",
    "Trainable params: 2,880,643\n",
    "Non-trainable params: 0\n",
    "_________________________________________________________________\n",
    "```"
   ]
  },
  {
   "cell_type": "markdown",
   "metadata": {
    "id": "RnjvepeBlR9U"
   },
   "source": [
    "A modell első fele nagyon hasonlít a képosztályozáshoz használt convnethez: `Conv2D` rétegek halmaza, fokozatosan növekvő szűrőmérettel. A képeinkből háromszor, egyenként kétszeres mintát veszünk, aminek eredményeként a `(25, 25, 256)` méret aktiválódik. Ennek az első félnek az a célja, hogy a képeket kisebb jellemzőtérképekre kódolja, ahol minden egyes térbeli hely (vagy pixel) az eredeti kép egy nagy térbeli darabjáról tartalmaz információt. Felfoghatod egyfajta tömörítésként is.\n",
    "\n",
    "Az egyik fontos különbség ennek a modellnek az első fele és a korábban látott osztályozási modellek között a lemintavételezés módja: az utolsó fejezet osztályozási convnetjeiben `MaxPooling2D` rétegeket használtunk a jellemzőtérképek mintavételezésére. Itt a mintavételt úgy végezzük, hogy minden második konvolúciós réteghez _lépésközöket_ adunk (ha nem emlékszik a konvolúciós lépésközök működésének részleteire, lásd a 8.1.1. szakasz „A konvolúciós lépésköz értelmezése” című részt). Ezt azért tesszük, mert a képszegmentálásnál nagyon fontosnak tartjuk az információ _térbeli elhelyezkedését_ a képen, hiszen a modell kimeneteként pixelenkénti célmaszkokat kell készítenünk. Ha 2 × 2 max poolingot hajt végre, akkor teljesen megsemmisíti a helyinformációkat az egyes gyűjtőablakon belül: ablakonként egy skaláris értéket ad vissza, anélkül, hogy az ablakok négy helye közül melyikről származik az érték. Tehát bár a max pooling rétegek jól teljesítenek az osztályozási feladatoknál, egy szegmentálási feladatnál igencsak ártanak nekünk. Eközben a lépésközös konvolúciók jobb munkát végeznek a jellemzőtérképek mintavételezésében, miközben megtartják a helyinformációkat. Fel fog tűnni, hogy ebben a könyvben hajlamosak vagyunk a lépésköz használatára a maximális összevonás helyett minden olyan modellben, amely törődik a jellemzők elhelyezkedésével, például a 12. fejezetben található generatív modelleknél.\n",
    "\n",
    "A modell második fele a `Conv2DTranspose` rétegek halma. Mik azok? Nos, a modell első felének kimenete egy `(25, 25, 256)` alakú térkép, de azt szeretnénk, hogy a végső kimenetünk a célmaszkokéval megegyező `(200, 200, 3)` alakú legyen. Ezért az eddig alkalmazott transzformációk egyfajta _inverzét_ kell alkalmaznunk – olyasvalamit, amely _felfelé mintavételezi_ a jellemzőtérképeket, ahelyett, hogy lefelé mintavételezné azokat. Ez a `Conv2DTranspose` réteg célja: egyfajta konvolúciós rétegként fogható fel, amely megtanulja a felmintavételezést. Ha van egy `(100, 100, 64)` alakú bemenetünk, és átfuttatjuk a `Conv2D(128, 3, strides=2, padding=\"same\")` rétegen, akkor egy `(50, 50, 128)` alakú kimenetet kapunk. Ha ezt a kimenetet a `Conv2DTranspose(64, 3, strides=2, padding=\"same\")` rétegen futtatja, visszakapja az eredetivel megegyező `(100, 100, 64)` alakú kimenetet. Tehát miután a bemeneteinket `(25, 25, 256)` alakú térképekké tömörítettük egy halom `Conv2D` rétegen keresztül, egyszerűen alkalmazhatjuk a megfelelő `Conv2DTranspose` rétegsorozatot, hogy visszatérjünk a `(200, 200, 3)` alakú képekhez.\n",
    "\n",
    "Most már össze tudjuk állítani és illeszteni a modellünket:"
   ]
  },
  {
   "cell_type": "code",
   "execution_count": null,
   "metadata": {
    "id": "6nZzFxoz35_G"
   },
   "outputs": [],
   "source": [
    "model.compile(optimizer=\"rmsprop\", loss=\"sparse_categorical_crossentropy\")\n",
    "\n",
    "callbacks = [\n",
    "    keras.callbacks.ModelCheckpoint(\"oxford_segmentation.keras\",\n",
    "                                    save_best_only=True)\n",
    "]\n",
    "\n",
    "history = model.fit(train_input_imgs, train_targets,\n",
    "                    epochs=50,\n",
    "                    callbacks=callbacks,\n",
    "                    batch_size=64,\n",
    "                    validation_data=(val_input_imgs, val_targets))"
   ]
  },
  {
   "cell_type": "markdown",
   "metadata": {
    "id": "wFpMb8xg4aUs"
   },
   "source": [
    "Rajzoljuk fel a betanítási és érvényesítési veszteségünket (lásd a 9.5. ábrát):"
   ]
  },
  {
   "cell_type": "markdown",
   "metadata": {
    "id": "uVOOGSwg8bVk"
   },
   "source": [
    "![](figs/f9.5_.jpg)\n",
    "\n",
    "**9.5. ábra:** Betanítási és érvényesítési veszteséggörbék megjelenítése"
   ]
  },
  {
   "cell_type": "code",
   "execution_count": null,
   "metadata": {
    "id": "RodJXNFm9S2j"
   },
   "outputs": [],
   "source": [
    "epochs = range(1, len(history.history[\"loss\"]) + 1)\n",
    "loss = history.history[\"loss\"]\n",
    "val_loss = history.history[\"val_loss\"]\n",
    "plt.figure()\n",
    "plt.plot(epochs, loss, \"bo\", label=\"Training loss\")\n",
    "plt.plot(epochs, val_loss, \"b\", label=\"Validation loss\")\n",
    "plt.title(\"Training and validation loss\")\n",
    "plt.legend()"
   ]
  },
  {
   "cell_type": "markdown",
   "metadata": {
    "id": "EOR0kJqO9f0r"
   },
   "source": [
    "Látható, hogy félúton kezdjük a túlillesztést, a 25. tanítási szakasz környékén. Töltsük újra a legjobban teljesítő modellünket az érvényesítési veszteségnek megfelelően, és mutassuk be, hogyan használjuk a szegmentációs maszk előrejelzésére (lásd a 9.6. ábrát):"
   ]
  },
  {
   "cell_type": "code",
   "execution_count": null,
   "metadata": {
    "id": "Ao1KmlrI-Xl6"
   },
   "outputs": [],
   "source": [
    "from tensorflow.keras.utils import array_to_img\n",
    "\n",
    "model = keras.models.load_model(\"oxford_segmentation.keras\")\n",
    "\n",
    "i = 4\n",
    "test_image = val_input_imgs[i]\n",
    "plt.axis(\"off\")\n",
    "plt.imshow(array_to_img(test_image))\n",
    "\n",
    "mask = model.predict(np.expand_dims(test_image, 0))[0]\n",
    "\n",
    "def display_mask(pred):               #<--- Segédprogram a modell előrejelzésének megjelenítéséhez\n",
    "    mask = np.argmax(pred, axis=-1)\n",
    "    mask *= 127\n",
    "    plt.axis(\"off\")\n",
    "    plt.imshow(mask)\n",
    "\n",
    "display_mask(mask)"
   ]
  },
  {
   "cell_type": "markdown",
   "metadata": {
    "id": "Q3cfA1Su_HkT"
   },
   "source": [
    "![](figs/f9.6_.jpg)\n",
    "\n",
    "**9.6. ábra:** Egy tesztkép és a hozzá tartozó szegmentációs maszk"
   ]
  },
  {
   "cell_type": "markdown",
   "metadata": {
    "id": "WGG4vZCG_ydE"
   },
   "source": [
    "Az előrejelzett maszkunkban van néhány apró melléktermék, amelyeket az előtérben és a háttérben lévő geometriai alakzatok okoznak. Ennek ellenére úgy tűnik, hogy a modellünk jól működik.\n",
    "\n",
    "Ekkorra már a 8. fejezetben és a 9. fejezet elején megtanultad a képosztályozás és képszegmentálás alapjait: már sok mindent képes vagy elérni azzal, amit tudsz. A tapasztalt mérnökök által a valós problémák megoldására kifejlesztett convnetek azonban nem olyan egyszerűek, mint azok, amelyeket eddigi bemutatóink során használtunk. Még mindig hiányoznak az alapvető mentális modellek és gondolkodási folyamatok, amelyek lehetővé teszik a szakértők számára, hogy gyors és pontos döntéseket hozzanak a legmodernebb modellek összeállításával kapcsolatban. E szakadék áthidalásához meg kell tanulnunk a _szerkezeti mintákat_. Merüljünk bele."
   ]
  },
  {
   "cell_type": "markdown",
   "metadata": {
    "id": "zFvV6dsZGVMJ"
   },
   "source": [
    "## 9.3 Modern convnet architektúra minták\n",
    "\n",
    "A modell „architektúrája” a létrehozásához szükséges választási lehetőségek összessége: mely rétegeket használjuk, hogyan konfiguráljuk őket, és milyen elrendezésben kapcsoljuk össze őket. Ezek a választások határozzák meg a modell _hipotézisterét_: a lehetséges függvények terét, amelyen a gradiens ereszkedés kereshet, a modell súlyaival paraméterezve. A jellemzőtervezéshez hasonlóan a jó hipotézistér az adott problémával és annak megoldásával kapcsolatos _előzetes tudást_ kódolja. Például a konvolúciós rétegek használata azt jelenti, hogy előre tudja, hogy a bemeneti képekben található fontos minták fordításinvariánsak. Ahhoz, hogy hatékonyan tanulhasson az adatokból, feltételezéseket kell készítenie arról, hogy mit keres.\n",
    "\n",
    "A modellarchitektúra gyakran a különbség a siker és a kudarc között. Ha nem megfelelő architektúrát választ, előfordulhat, hogy a modell elakad a szuboptimális mérőszámoknál, és semmilyen betanítási adat sem fogja megmenteni. Ezzel szemben a jó modellarchitektúra felgyorsítja a tanulást, és lehetővé teszi, hogy a modell hatékonyan használja fel a rendelkezésre álló betanítási adatokat, csökkentve a nagy adathalmazok szükségességét. A jó modellarchitektúra az, amely _csökkenti a keresési terület méretét_, vagy más módon _megkönnyíti a keresési tér egy jó pontjához való konvergálást_. Csakúgy, mint a jellemzőtervezés és az adatkezelés, a modellarchitektúra is arról szól, hogy _egyszerűbbé tegye a problémát_ a gradiensereszkedés megoldásához. És ne feledje, hogy a gradiens süllyedés meglehetősen ostoba keresési folyamat, ezért minden segítségre szüksége van.\n",
    "\n",
    "A modellépítészet inkább művészet, mint tudomány. A tapasztalt gépi tanulási mérnökök már első próbálkozásukra képesek intuitív módon összeállítani a nagy teljesítményű modelleket, míg a kezdőknek gyakran nehézséget okoz, hogy olyan modellt alkossanak, amely egyáltalán edz. A kulcsszó itt az _intuitív_: senki sem tud egyértelmű magyarázatot adni arra, hogy mi működik és mi nem. A szakértők a mintaillesztésre hagyatkoznak, amely képességre kiterjedt gyakorlati tapasztalat révén sajátítanak el. Ebben a könyvben fejlesztheti saját intuícióját. Azonban nem _minden_ az intuíción múlik – a tényleges tudománynak nincs sok módja, de mint minden mérnöki tudományágban, itt is vannak bevált gyakorlatok.\n",
    "\n",
    "A következő szakaszokban áttekintünk néhány a gyakorlatban bevált alapvető convnet architektúrát: különösen a maradék kapcsolatokat, a kötegelt normalizálást és az elválasztható konvolúciókat. Miután elsajátította a használatukat, képes lesz rendkívül hatékony képmodelleket készíteni. Alkalmazni is fogjuk ezeket a macska vs. kutya osztályozási problémánkra. {249.o->:}\n",
    "\n",
    "Kezdjük madártávlatból: a modularitás-hierarchia-újrafelhasználás (MHR) képletével a rendszerarchitektúrához."
   ]
  },
  {
   "cell_type": "markdown",
   "metadata": {
    "id": "BoXSpTltGcbq"
   },
   "source": [
    "### 9.3.1 Modularitás, hierarchia és újrafelhasználás\n",
    "\n",
    "Ha egyszerűbbé szeretne tenni egy összetett rendszert, van egy univerzális recept, amelyet alkalmazhat: egyszerűen strukturálja _modulokba_ a komplexitás amorf levesét, rendezze a modulokat _hierarchiába_, és kezdje el _újra felhasználni_ ugyanazokat a modulokat több helyen is (az \"újrafelhasználás\" egy másik szó az _absztrakcióra_ ebben az összefüggésben). Ez az MHR képlet (modularity-hierarchy-reuse), és ez alapozza meg a rendszerarchitektúrát szinte minden olyan tartományban, ahol az „architektúra” kifejezést használják. Bármilyen értelmes komplexitású rendszer szervezetének középpontjában áll, legyen az egy katedrális, a saját tested, az amerikai haditengerészet vagy a Keras kódbázis (lásd a 9.7. ábrát)."
   ]
  },
  {
   "cell_type": "markdown",
   "metadata": {
    "id": "ZLS3p1-cLnGP"
   },
   "source": [
    "![](figs/f9.7_.jpg)\n",
    "\n",
    "**9.7. ábra:** Az összetett rendszerek hierarchikus struktúrát követnek, és különálló modulokba vannak szervezve, amelyeket többször is felhasználnak (például a négy végtag, amelyek mind ugyanannak a tervnek a változatai, vagy a 20 „ujjad”)."
   ]
  },
  {
   "cell_type": "markdown",
   "metadata": {
    "id": "jOsxPCXMM4u7"
   },
   "source": [
    "Ha ön szoftvermérnök, akkor már nagyon jól ismeri ezeket az alapelveket: a hatékony kódbázis az, amely moduláris, hierarchikus, és ahol nem hajtja végre ugyanazt a dolgot kétszer, hanem az újrafelhasználható osztályokra és függvényekre hagyatkozik. Ha ezeket az elveket követve szemléli a kódot, akkor azt mondhatja, hogy „szoftverarchitektúrát” csinál.\n",
    "\n",
    "Maga a mélytanulás egyszerűen ennek a receptnek az alkalmazása a folyamatos optimalizálásra gradiensereszkedés útján: egy klasszikus optimalizálási technikát használ (gradiens süllyedés egy folytonos függvénytéren), és a keresési teret modulokba (rétegekbe) strukturálja, mély hierarchiába rendezve (ami gyakran csak egy verem, a hierarchia legegyszerűbb fajtája), ahol bármit újra felhasználhat (például a konvolúciók ugyanazt az információt különböző térbeli helyeken újra felhasználják).\n",
    "\n",
    "Hasonlóképpen, a mély tanulási modell-architektúra elsősorban a modularitás, a hierarchia és az újrahasználat okos felhasználásáról szól. Észre fogja venni, hogy az összes népszerű convnet architektúra nem csak rétegekbe, hanem ismétlődő rétegcsoportokba (ezek „blokkok” vagy „modulok”) vannak strukturálva. Például az előző fejezetben használt népszerű VGG16 architektúra ismétlődő „conv, conv, max pooling” blokkokból áll (lásd a 9.8. ábrát).\n",
    "\n",
    "Ezenkívül a legtöbb convnet gyakran piramisszerű struktúrákat (szolgáltatáshierarchiákat) tartalmaz. Emlékezzünk vissza például az előző fejezetben felépített első convnetben használt konvolúciós szűrők számának alakulására: 32, 64, 128. A szűrők száma a rétegmélységgel nő, míg a jellemzőtérképek mérete ennek megfelelően csökken. Ugyanezt a mintát láthatja a VGG16 modell blokkjaiban (lásd a 9.8. ábrát)."
   ]
  },
  {
   "cell_type": "markdown",
   "metadata": {
    "id": "5QxUTpbyWWoj"
   },
   "source": [
    "![](figs/f9.8_.jpg)\n",
    "\n",
    "**9.8 ábra:** A VGG16 architektúra: vegye észre az ismétlődő rétegblokkokat és a jellemzőtérképek piramisszerű szerkezetét"
   ]
  },
  {
   "cell_type": "markdown",
   "metadata": {
    "id": "8YZvV-lsZ4ft"
   },
   "source": [
    "A mélyebb hierarchiák alapvetően jók, mert ösztönzik a funkciók újrafelhasználását, és ezáltal az absztrakciót. Általánosságban elmondható, hogy a keskeny rétegekből álló mély halom jobban teljesít, mint a nagy rétegek sekély halmaza. Az eltűnő színátmenetek problémája miatt azonban korlátozottak a rétegek egymásra halmozásának mélységei. Ez elvezet bennünket az első lényeges modellarchitektúránkhoz: a maradék kapcsolatokhoz."
   ]
  },
  {
   "cell_type": "markdown",
   "metadata": {
    "id": "yxWIIqtxNiGY"
   },
   "source": [
    "---\n",
    "\n",
    "**Az ablációs vizsgálatok fontosságáról a mély tanulás kutatásában**\n",
    "\n",
    "A mélytanulási architektúrák gyakran inkább _kifejlődtek_, minthogy megtervezték volna – úgy fejlesztették ki őket, hogy többször próbáltak dolgokat, és kiválasztották azt, ami működni látszott. A biológiai rendszerekhez hasonlóan, ha bármilyen bonyolult kísérleti mélytanulási beállítást választ, nagy eséllyel eltávolíthat néhány modult (vagy néhány betanított funkciót véletlenszerűre cserélhet) anélkül, hogy veszítene a teljesítményéből.\n",
    "\n",
    "Ezt tovább rontják azok az ösztönzők, amelyekkel a mély tanulással foglalkozó kutatók szembesülnek: ha egy rendszert a szükségesnél bonyolultabbá tesznek, érdekesebbé vagy újszerűbbé tehetik azt, és így növelhetik az esélyeiket, hogy a szakértői értékelési folyamaton átjussanak. Ha sok mélyreható tanulmányt elolvas, észre fogja venni, hogy azok gyakran vannak optimalizálva szakértői értékeléshez mind stílusban, mind tartalomban oly módon, hogy az aktívan sérti a magyarázatok egyértelműségét és az eredmények megbízhatóságát. Például a matematikát a mélytanulási dolgozatokban ritkán használják fogalmak egyértelmű formába öntésére vagy nem nyilvánvaló eredmények levezetésére – inkább a _komolyság jelzéseként_ használják, mint a drága öltönyt az eladón.\n",
    "\n",
    "A kutatás célja ne pusztán publikálás legyen, hanem megbízható tudás létrehozása. Létfontosságú, hogy az ok-okozati összefüggések megértése a rendszerben a legegyszerűbb módja a megbízható tudás létrehozásának. És van egy nagyon kevés erőfeszítést igénylő módszer az ok-okozati összefüggés vizsgálatára: az _ablációs_ vizsgálatok. Az ablációs vizsgálatok abból állnak, hogy szisztematikusan megpróbálják eltávolítani a rendszer egyes részeit – ezzel egyszerűbbé téve azt – annak azonosítására, hogy honnan származik a teljesítménye. Ha úgy találja, hogy az X + Y + Z jó eredményeket ad, próbálkozzon X, Y, Z, X + Y, X + Z és Y + Z esettel is, és nézze meg, mi történik.\n",
    "\n",
    "Ha mélytanulás-kutató lesz, vágja le a kutatási folyamat zaját: végezzen ablációs vizsgálatokat modelljeihez. Mindig kérdezze meg: „Létezhet-e egyszerűbb magyarázat? Valóban szükséges ez a megnövelt bonyolultság? Miért?\"\n",
    "\n",
    "---"
   ]
  },
  {
   "cell_type": "markdown",
   "metadata": {
    "id": "11bur5yEWseI"
   },
   "source": [
    "### 9.3.2 Maradék összefüggés\n",
    "\n",
    "Valószínűleg ismeri a Telephone játékot, amelyet az Egyesült Királyságban kínai suttogásnak, Franciaországban pedig téléphone arabe-nak is neveznek, ahol a kezdeti üzenetet az egyik játékos fülébe suttogják, aki aztán a következő játékos fülébe súgja, és így tovább. Az utolsó üzenet végül alig hasonlít az eredeti verzióhoz. Ez egy szórakoztató metafora a zajos csatornán keresztüli szekvenciális átvitel során fellépő kumulatív hibákra.\n",
    "\n",
    "Ahogy megtörténik, a szekvenciális mély tanulási modellben a visszaterjesztés, az nagyon hasonlít a Telefonos játékhoz. Van egy függvényláncunk, például ez:\n",
    "```\n",
    "y = f4(f3(f2(f1(x))))\n",
    "```\n",
    "A játék neve a lánc egyes függvényei paramétereinek beállítása az f4 kimenetén rögzített hiba (a modell vesztesége) alapján. Az f1 beállításához a hibainformációknak az f2-n, az f3-on és az f4-en keresztül kell átadnia. Mindazonáltal a láncban minden egymást követő függvény bizonyos mennyiségű zajt hoz be. Ha a függvénylánc túl hosszú, ez a zaj elkezdi elnyomni a gradiens információkat, és a visszaterjesztés leáll. A modelled egyáltalán nem fog tanulni. Ez az _eltűnő gradiensek_ problémája.\n",
    "\n",
    "A javítás egyszerű: csak kényszerítse rá a lánc mindegyik függvényét, hogy legyen roncsolásmentes – hogy megőrizze az előző bemenetben található információ zajtalan változatát. Ennek legegyszerűbb módja a _maradék kapcsolat_ használata. Ez nagyon egyszerű: csak adja hozzá egy réteg vagy rétegblokk bemenetét a kimenethez (lásd a 9.9. ábrát). A maradék kapcsolat _információ gyorsításként_ működik a destruktív vagy zajos blokkok (például a `relu`-aktiválást vagy kihagyási rétegeket tartalmazó blokkok) körül, lehetővé téve a korai rétegekből származó hibagradiens információinak zajtalan terjedését egy mély hálózaton. Ezt a technikát 2015-ben vezették be a ResNet modellcsaláddal (amelyet He et al. fejlesztett ki a Microsoftnál).[1]\n",
    "\n",
    "---\n",
    "\n",
    "[1] Kaiming He et al., “Deep Residual Learning for Image Recognition,” Conference on Computer Vision and Pattern Recognition (2015), https://arxiv.org/abs/1512.03385 ."
   ]
  },
  {
   "cell_type": "markdown",
   "metadata": {
    "id": "2RIPkGDh6Gtf"
   },
   "source": [
    "![](figs/f9.9_.jpg)\n",
    "\n",
    "**9.9. ábra:** Egy feldolgozási blokk körüli maradék kapcsolat"
   ]
  },
  {
   "cell_type": "markdown",
   "metadata": {
    "id": "oicQitYI64MG"
   },
   "source": [
    "A gyakorlatban a maradék kapcsolatot a következőképpen valósíthatjuk meg.\n",
    "\n",
    "**9.1 lista: A maradék kapcsolat pszeudokódban**"
   ]
  },
  {
   "cell_type": "code",
   "execution_count": null,
   "metadata": {
    "id": "Wez3sZIo7_Xy"
   },
   "outputs": [],
   "source": [
    "x = ...                 #<--- Valami bemeneti tenzor\n",
    "residual = x            #<--- Mentsen el egy mutatót az eredeti bemenetre. Ezt hívjuk maradéknak.\n",
    "x = block(x)            #<--- Ez a számítási blokk potenciálisan romboló vagy zajos lehet, és ez rendben van.\n",
    "x = add([x, residual])  #<--- Hozzáadja az eredeti bemenetet a réteg kimenetéhez:\n",
    "                        #     a végső kimenet így mindig megőrzi a teljes információt az eredeti bemenetről."
   ]
  },
  {
   "cell_type": "markdown",
   "metadata": {
    "id": "mZALZR16CPlG"
   },
   "source": [
    "Vegye észre, hogy a bemenet hozzáadása egy blokk kimenetéhez azt jelenti, hogy a kimenetnek ugyanolyan alakúnak kell lennie, mint a bemenetnek. Ez azonban nem így van, ha a blokk konvolúciós rétegeket tartalmaz megnövelt számú szűrővel, vagy max pooling réteget. Ilyen esetekben használjon 1 × 1 `Conv2D` réteget aktiválás nélkül, hogy a maradékot lineárisan a kívánt kimeneti alakra vetítse (lásd a 9.2 listát). Általában a `padding=` `\"same\"` értéket használunk a célblokk konvolúciós rétegeiben, hogy elkerüljük a kitöltés miatti térbeli lemintavételezést, a maradék vetítésben pedig a lépésköz használatával illeszkedünk a max pooling réteg által okozott lemintavételhez (lásd a 9.3 listát).\n",
    "\n",
    "**9.2 lista: Maradék blokk, ahol a szűrők száma változik**"
   ]
  },
  {
   "cell_type": "code",
   "execution_count": null,
   "metadata": {
    "id": "3TxegnFuTMGx"
   },
   "outputs": [],
   "source": [
    "from tensorflow import keras\n",
    "from tensorflow.keras import layers\n",
    "\n",
    "inputs = keras.Input(shape=(32, 32, 3))\n",
    "x = layers.Conv2D(32, 3, activation=\"relu\")(inputs)\n",
    "residual = x                                #<--- Tegyük félre a maradékot.\n",
    "x = layers.Conv2D(64, 3, activation=\"relu\", padding=\"same\")(x)  #<--- Ez az a réteg, amely körül maradék kapcsolatot hozunk létre:\n",
    "                                                                #     ez 32-ről 64-re növeli a kimeneti file-ok számát.\n",
    "                                                                #     Vegye figyelembe, hogy a padding=\"same\"-t használjuk,\n",
    "                                                                #     hogy elkerüljük a padding miatti lemintavételezést.\n",
    "residual = layers.Conv2D(64, 1)(residual)   #<--- A maradéknak csak 32 szűrője volt, ezért 1 × 1-es Conv2D-t használunk\n",
    "                                            #     a megfelelő formára vetítéséhez.\n",
    "x = layers.add([x, residual])               #<--- Most a blokk kimenete és a maradék azonos alakú, és összeadható."
   ]
  },
  {
   "cell_type": "markdown",
   "metadata": {
    "id": "ehxagMx-WPvv"
   },
   "source": [
    "**9.3 lista: Az az eset, amikor a célblokk max pooling réteget tartalmaz**"
   ]
  },
  {
   "cell_type": "code",
   "execution_count": null,
   "metadata": {
    "id": "XC2ygz6OWtBo"
   },
   "outputs": [],
   "source": [
    "inputs = keras.Input(shape=(32, 32, 3))\n",
    "x = layers.Conv2D(32, 3, activation=\"relu\")(inputs)\n",
    "residual = x                                #<--- Tegyük félre a maradékot.\n",
    "x = layers.Conv2D(64, 3, activation=\"relu\", padding=\"same\")(x)  #<--- Ez az a két rétegből álló blokk, amely körül maradék kapcsolatot\n",
    "x = layers.MaxPooling2D(2, padding=\"same\")(x)                   #     hozunk létre: tartalmaz egy 2 × 2 max. pooling réteget.\n",
    "                                                                #     Vegye figyelembe, hogy mind a konvolúciós rétegben,\n",
    "                                                                #     mind a max pooling rétegben a padding=\"same\" értéket használjuk,\n",
    "                                                                #     hogy elkerüljük a padding miatti lemintavételezést.\n",
    "residual = layers.Conv2D(64, 1, strides=2)(residual)            #<--- A maradék vetületben strides=2-t használunk, hogy megfeleljen a\n",
    "                                                                #     max pooling réteg által létrehozott lemintavételezésnek.\n",
    "x = layers.add([x, residual])               #<--- Most a blokk kimenete és a maradék azonos alakú, és összeadható."
   ]
  },
  {
   "cell_type": "markdown",
   "metadata": {
    "id": "VKbBd4g3ZBKh"
   },
   "source": [
    "Hogy konkrétabbá tegyük ezeket az elképzeléseket, íme egy példa egy egyszerű convnet-re, amely egy sor blokkból áll, amelyek mindegyike két konvolúciós rétegből és egy opcionális max pooling rétegből áll, mindegyik blokk körül egy maradék kapcsolattal:"
   ]
  },
  {
   "cell_type": "code",
   "execution_count": null,
   "metadata": {
    "id": "cJUaAmbRZdw_"
   },
   "outputs": [],
   "source": [
    "inputs = keras.Input(shape=(32, 32, 3))\n",
    "x = layers.Rescaling(1./255)(inputs)\n",
    "\n",
    "def residual_block(x, filters, pooling=False):    #<--- Segédfüggvény a konvolúciós blokk alkalmazásához maradék kapcsolattal,\n",
    "                                                  #     max pooling hozzáadásának lehetőségével\n",
    "    residual = x\n",
    "    x = layers.Conv2D(filters, 3, activation=\"relu\", padding=\"same\")(x)\n",
    "    x = layers.Conv2D(filters, 3, activation=\"relu\", padding=\"same\")(x)\n",
    "    if pooling:\n",
    "        x = layers.MaxPooling2D(2, padding=\"same\")(x)\n",
    "        residual = layers.Conv2D(filters, 1, strides=2)(residual) #<--- Ha max poolingot használunk, akkor lépésközös konvolúciót\n",
    "                                                                  #     adunk hozzá, hogy a maradékot a kívánt alakra vetítsük.\n",
    "    elif filters != residual.shape[-1]:\n",
    "        residual = layers.Conv2D(filters, 1)(residual)  #<--- Ha nem használunk max poolingot, akkor\n",
    "                                                        #     csak akkor vetítjük ki a maradékot, ha a csatornák száma megváltozott.\n",
    "    x = layers.add([x, residual])\n",
    "    return x\n",
    "\n",
    "x = residual_block(x, filters=32, pooling=True)     #<--- Első blokk\n",
    "x = residual_block(x, filters=64, pooling=True)     #<--- Második blokk; vegye észre a növekvő szűrőszámot mindegyik blokkban.\n",
    "x = residual_block(x, filters=128, pooling=False)   #<--- Az utolsó blokkhoz nincs szükség max pooling rétegre,\n",
    "                                                    #     mivel közvetlenül utána alkalmazzuk a globális átlag poolingot.\n",
    "\n",
    "x = layers.GlobalAveragePooling2D()(x)\n",
    "outputs = layers.Dense(1, activation=\"sigmoid\")(x)\n",
    "model = keras.Model(inputs=inputs, outputs=outputs)\n",
    "model.summary()"
   ]
  },
  {
   "cell_type": "markdown",
   "metadata": {
    "id": "IA5OfIPGf2JT"
   },
   "source": [
    "Ez a modell összefoglalója, amit kapunk:\n",
    "\n",
    "```\n",
    "Model: \"model\"\n",
    "__________________________________________________________________________________________________\n",
    "Layer (type)                    Output Shape         Param #     Connected to\n",
    "==================================================================================================\n",
    "input_1 (InputLayer)            [(None, 32, 32, 3)]  0\n",
    "__________________________________________________________________________________________________\n",
    "rescaling (Rescaling)           (None, 32, 32, 3)    0           input_1[0][0]\n",
    "__________________________________________________________________________________________________\n",
    "conv2d (Conv2D)                 (None, 32, 32, 32)   896         rescaling[0][0]\n",
    "__________________________________________________________________________________________________\n",
    "conv2d_1 (Conv2D)               (None, 32, 32, 32)   9248        conv2d[0][0]\n",
    "__________________________________________________________________________________________________\n",
    "max_pooling2d (MaxPooling2D)    (None, 16, 16, 32)   0           conv2d_1[0][0]\n",
    "__________________________________________________________________________________________________\n",
    "conv2d_2 (Conv2D)               (None, 16, 16, 32)   128         rescaling[0][0]\n",
    "__________________________________________________________________________________________________\n",
    "add (Add)                       (None, 16, 16, 32)   0           max_pooling2d[0][0]\n",
    "                                                                 conv2d_2[0][0]\n",
    "__________________________________________________________________________________________________\n",
    "conv2d_3 (Conv2D)               (None, 16, 16, 64)   18496       add[0][0]\n",
    "__________________________________________________________________________________________________\n",
    "conv2d_4 (Conv2D)               (None, 16, 16, 64)   36928       conv2d_3[0][0]\n",
    "__________________________________________________________________________________________________\n",
    "max_pooling2d_1 (MaxPooling2D)  (None, 8, 8, 64)     0           conv2d_4[0][0]\n",
    "__________________________________________________________________________________________________\n",
    "conv2d_5 (Conv2D)               (None, 8, 8, 64)     2112        add[0][0]\n",
    "__________________________________________________________________________________________________\n",
    "add_1 (Add)                     (None, 8, 8, 64)     0           max_pooling2d_1[0][0]\n",
    "                                                                 conv2d_5[0][0]\n",
    "__________________________________________________________________________________________________\n",
    "conv2d_6 (Conv2D)               (None, 8, 8, 128)    73856       add_1[0][0]\n",
    "__________________________________________________________________________________________________\n",
    "conv2d_7 (Conv2D)               (None, 8, 8, 128)    147584      conv2d_6[0][0]\n",
    "__________________________________________________________________________________________________\n",
    "conv2d_8 (Conv2D)               (None, 8, 8, 128)    8320        add_1[0][0]\n",
    "__________________________________________________________________________________________________\n",
    "add_2 (Add)                     (None, 8, 8, 128)    0           conv2d_7[0][0]\n",
    "                                                                 conv2d_8[0][0]\n",
    "__________________________________________________________________________________________________\n",
    "global_average_pooling2d (Globa (None, 128)          0           add_2[0][0]\n",
    "__________________________________________________________________________________________________\n",
    "dense (Dense)                   (None, 1)            129         global_average_pooling2d[0][0]\n",
    "==================================================================================================\n",
    "Total params: 297,697\n",
    "Trainable params: 297,697\n",
    "Non-trainable params: 0\n",
    "__________________________________________________________________________________________________\n",
    "```\n",
    "A maradék kapcsolatokkal tetszőleges mélységű hálózatokat építhetünk ki anélkül, hogy aggódni kellene az eltűnő gradiensek miatt.\n",
    "\n",
    "Most térjünk át a következő alapvető convnet architektúra mintára: a _köteg(elt) normalizálásra_."
   ]
  },
  {
   "cell_type": "markdown",
   "metadata": {
    "id": "6rGkQt4Lkxuj"
   },
   "source": [
    "### 9.3.3 Kötegelt normalizálás\n",
    "\n",
    "A _normalizálás_ azon módszerek tág kategóriája, amelyek arra törekszenek, hogy a gépi tanulási modellnek megmutatott különböző minták jobban hasonlítsanak egymásra, ami segít a modellnek megtanulni és jól általánosítani az új adatokat. Az adatnormalizálás legáltalánosabb formája az, amelyet ebben a könyvben már többször is láthattunk: az adatok nullára való központosítása úgy, hogy az átlagot kivonjuk az adatokból, és egységnyi szórást adunk az adatokhoz úgy, hogy az adatokat elosztjuk a szórással. Valójában ez azt feltételezi, hogy az adatok normál (vagy Gauss-) eloszlást követnek, és biztosítja, hogy ez az eloszlás legyen központosítva a 0-ra és átméretezve az egységnyi szórásra:\n",
    "```\n",
    "normalized_data = (data - np.mean(data, axis=...)) / np.std(data, axis=...)\n",
    "```\n",
    "A könyv korábbi példái normalizálták az adatokat, mielőtt betáplálták őket a modellekbe. Az adatok normalizálása azonban érdekes lehet minden hálózat által végrehajtott átalakítás után: még ha a `Dense` vagy `Conv2D` hálózatba belépő adatok 0 átlaggal és egységnyi szórással rendelkeznek is, nem lehet eleve elvárni, hogy ez az kiérkező adatok esetében is így legyen. A köztes aktiválások normalizálása segíthet?\n",
    "\n",
    "A kötegelt normalizálás éppen ezt teszi. Ez is egyfajta réteg (a `BatchNormalization` a Kerasban), amelyet 2015-ben vezetett be az Ioffe és Szegedy;[2] ez képes adaptívan normalizálni az adatokat, még akkor is, ha az átlag és a variancia idővel változik a tanítás során. A betanítás során az aktuális adatköteg átlagát és szórását használja a minták normalizálására, a következtetés során pedig (amikor esetleg nem áll rendelkezésre elég nagy köteg reprezentatív adatokból) a képzés során látott adatok kötegenkénti átlagának és szórásának exponenciális mozgóátlagát használja. {256.o:->}\n",
    "\n",
    "---\n",
    "\n",
    "[2] Sergey Ioffe and Christian Szegedy, “Batch Normalization: Accelerating Deep Network Training by Reducing Internal Covariate Shift,” Proceedings of the 32nd International Conference on Machine Learning (2015), https://arxiv.org/abs/1502.03167."
   ]
  },
  {
   "cell_type": "markdown",
   "metadata": {
    "id": "aDkFth3jirYw"
   },
   "source": [
    "Bár az eredeti dokumentum azt állította, hogy a kötegelt normalizálás a „belső kovariáns eltolódás csökkentésével” működik, senki sem tudja biztosan, miért segít a kötegelt normalizálás. Vannak különféle hipotézisek, de nincsenek bizonyosságok. Meg fogod tapasztalni, hogy ez sok mindenre igaz a mély tanulásban – a mélytanulás nem egzakt tudomány, hanem állandóan változó, empirikusan levezetett bevált mérnöki gyakorlatok halmaza, amelyeket megbízhatatlan narratívák fűznek össze. Néha úgy fogod érezni, hogy a kezedben lévő könyv megmondja, _hogyan_ kell csinálni valamit, de nem mondja meg kielégítően, hogy _miért_ működik: ez azért van, mert tudjuk, hogyan kell, de nem tudjuk, hogy miért. Ha megbízható magyarázat áll rendelkezésre, mindenképpen megemlítem. A kötegelt normalizálás nem tartozik ezek közé az esetek közé.\n",
    "\n",
    "A gyakorlatban úgy tűnik, hogy a kötegelt normalizálás fő hatása az, hogy segíti a gradiens terjedését – hasonlóan a maradék kapcsolatokhoz –, és így mélyebb hálózatokat tesz lehetővé. Egyes nagyon mély hálózatokat csak akkor lehet betanítani, ha több `BatchNormalization` réteget tartalmaznak. A kötegelt normalizálást például bőségesen használják a Kerashoz csomagolt fejlett convnet architektúrákban, mint például a ResNet50, az EfficientNet és az Xception.\n",
    "\n",
    "A `BatchNormalization` réteg bármely réteg után használható – `Dense, Conv2D` stb.:\n",
    "```\n",
    "x = ...\n",
    "x = layers.Conv2D(32, 3, use_bias=False)(x) #<--- Mivel a Conv2D réteg kimenete normalizálódik,\n",
    "                                            #     a rétegnek nincs szüksége saját torzítási vektorra.\n",
    "x = layers.BatchNormalization()(x)\n",
    "```"
   ]
  },
  {
   "cell_type": "markdown",
   "metadata": {
    "id": "1sOZ2wokpV1P"
   },
   "source": [
    "MEGJEGYZÉS\n",
    ">Mind a `Dense`, mind a `Conv2D` tartalmaz torzítási (eltolási) vektort, egy tanult változót, amelynek az a célja, hogy a réteget affinná, nem pedig tisztán lineárissá tegye. Például a `Conv2D` vázlatosan az `y = conv(x, kernel) + bias`-t adja vissza, a `Dense` pedig az `y = pont(x, kernel) + bias`-t. Mivel a normalizálási lépés gondoskodik arról, hogy a réteg kimenet központja nullára kerüljön, az eltolási vektorra már nincs szükség `BatchNormalization` használatakor, és a réteg nélküle is létrehozható a `use_bias=False` paraméterrel. Ettől a réteg kissé karcsúbb lesz.\n",
    "\n",
    "Fontos, hogy általában azt javaslom, hogy az előző réteg aktiválását a kötegelt normalizálási réteg után helyezze el (bár ez még mindig vita tárgya). Tehát ahelyett, hogy azt tenné, ami a 9.4-es listában látható, inkább a 9.5-ös listában leírtakat tegye.\n",
    "\n",
    "**9.4. lista: Hogyan ne használjuk a kötegelt normalizálást**"
   ]
  },
  {
   "cell_type": "code",
   "execution_count": null,
   "metadata": {
    "id": "yKxmBrvfuW1-"
   },
   "outputs": [],
   "source": [
    "x = layers.Conv2D(32, 3, activation=\"relu\")(x)\n",
    "x = layers.BatchNormalization()(x)"
   ]
  },
  {
   "cell_type": "markdown",
   "metadata": {
    "id": "h2fwO2M4ulc6"
   },
   "source": [
    "**9.5. lista: Így használjuk a kötegelt normalizálást: az aktiválás az utolsó**"
   ]
  },
  {
   "cell_type": "code",
   "execution_count": null,
   "metadata": {
    "id": "MI5JvXwUvcg8"
   },
   "outputs": [],
   "source": [
    "x = layers.Conv2D(32, 3, use_bias=False)(x)   #<--- Vegye észre az aktiválás hiányát.\n",
    "x = layers.BatchNormalization()(x)\n",
    "x = layers.Activation(\"relu\")(x)    #<--- Az aktiválást a BatchNormalization réteg után helyezzük el."
   ]
  },
  {
   "cell_type": "markdown",
   "metadata": {
    "id": "am59l1-ywYAf"
   },
   "source": [
    "Ennek a megközelítésnek az intuitív oka, hogy a kötegelt normalizálás a bemeneteket nullára állítja, míg a `relu` aktiválása nullát használ az aktivált csatornák megtartásához vagy eldobásához: az aktiválás előtti normalizálás maximalizálja a `relu` kihasználását. Ennek ellenére ez a sorrendre bevált gyakorlat nem éppen kritikus, így ha konvolúciót, majd aktiválást, majd kötegelt normalizálást végez, a modell továbbra is betanítható, és nem feltétlenül fog rosszabb eredményeket kapni.\n",
    "\n",
    "---\n",
    "\n",
    "**A kötegelt normalizálásról és finomhangolásról**\n",
    "\n",
    ">A kötegelt normalizálásnak számos furcsasága van. Az egyik fő ilyen a finomhangoláshoz kapcsolódik: `BatchNormalization` rétegeket tartalmazó modell finomhangolásakor azt javaslom, hogy ezeket a rétegeket hagyjuk befagyasztva (a `trainable` attribútumot állítsuk `False` értékre). Ellenkező esetben folyamatosan frissítik belső átlagukat és szórásukat, ami megzavarhatja a környező `Conv2D` rétegekre alkalmazott nagyon kis frissítéseket.\n",
    "\n",
    "---\n",
    "\n",
    "Most pedig vessünk egy pillantást sorozatunk utolsó szerkezeti mintájára: a mélységben szétválasztható konvolúcióra."
   ]
  },
  {
   "cell_type": "markdown",
   "metadata": {
    "id": "mfOkoAmC_NuV"
   },
   "source": [
    "### 9.3.4 Mélységben szétválasztható konvolúciók\n",
    "\n",
    "Mi lenne, ha azt mondanám, hogy van egy réteg, amelyet a `Conv2D` helyettesítőjeként használhatsz, és amely kisebbé (kevesebb betanítható súlyparaméter) és karcsúbbá (kevesebb lebegőpontos művelet) teszi a modelledet, és néhány százalékponttal jobban teljesíti a feladatát? Pontosan ezt teszi a _mélységben szétválasztható konvolúciós_ réteg (a `SeparableConv2D` a Kerasban). Ez a réteg minden bemeneti csatornán térbeli konvolúciót hajt végre, függetlenül, mielőtt a kimeneti csatornákat pontszerű konvolúcióval (1 × 1 konvolúcióval) összekeverné, amint az a 9.10. ábrán látható."
   ]
  },
  {
   "cell_type": "markdown",
   "metadata": {
    "id": "V6eBs8X0FN1b"
   },
   "source": [
    "![](figs/f9.10_.jpg)\n",
    "\n",
    "**9.10. ábra:** Mélységben szétválasztható konvolúció: mélységi konvolúció, majd pontszerű konvolúció"
   ]
  },
  {
   "cell_type": "markdown",
   "metadata": {
    "id": "YYNsWzCSGTtB"
   },
   "source": [
    "Ez egyenértékű a térbeli jellemzők tanulásának és a csatorna szerinti jellemzők tanulásának szétválasztásával. Ugyanúgy, ahogy a konvolúció arra a feltételezésre támaszkodik, hogy a képek mintái nincsenek meghatározott helyekhez kötve, a mélységben szétválasztható konvolúció azon a feltételezésen alapul, hogy a közbenső aktiválások _térbeli elhelyezkedése_ _erősen korrelál_, de a _különböző csatornák_ _nagymértékben függetlenek_. Mivel ez a feltevés általában igaz a mély neurális hálózatok által tanult képreprezentációkra, hasznos előzetesként szolgál, amely segít a modellnek a betanítási adatok hatékonyabb felhasználásában. Az a modell, amely erősebb prioritásokkal rendelkezik a feldolgozandó információ szerkezetére vonatkozóan, jobb modell – mindaddig, amíg a korábbiak pontosak.\n",
    "\n",
    "A mélységben szétválasztható konvolúció lényegesen kevesebb paramétert és kevesebb számítást igényel a reguláris konvolúcióhoz képest, miközben összehasonlítható reprezentációs ereje van. Kisebb modelleket eredményez, amelyek gyorsabban konvergálnak, és kevésbé hajlamosak a túltanulásra. Ezek az előnyök különösen akkor válnak fontossá, ha kis modelleket oktatunk a semmiből, korlátozott adatokon.\n",
    "\n",
    "Ha nagyobb méretű modellekről van szó, a mélységben szétválasztható konvolúciók képezik az Xception architektúra alapját, amely egy olyan nagy teljesítményű convnet, amely a Keras csomaggal érkezik. A mélységben szétválasztható konvolúciók és az Xception elméleti megalapozásáról az „Xception: Deep Learning with Depthwise Separable Convolutions”[3] című cikkben olvashat bővebben.\n",
    "\n",
    "---\n",
    "\n",
    "[3] François Chollet, “Xception: Deep Learning with Depthwise Separable Convolutions,” Conference on Computer\n",
    "Vision and Pattern Recognition (2017), https://arxiv.org/abs/1610.02357."
   ]
  },
  {
   "cell_type": "markdown",
   "metadata": {
    "id": "-4lrAKX7AJa7"
   },
   "source": [
    "---\n",
    "\n",
    "**Hardverek, szoftverek és algoritmusok együttes fejlődése**\n",
    "\n",
    ">Vegyünk egy szabályos konvolúciós műveletet 3 × 3 ablakkal, 64 bemeneti csatornával és 64 kimeneti csatornával. 3\\*3\\*64\\*64 = 36 864 betanítható paramétert használ, és amikor egy képre alkalmazza, számos lebegőpontos műveletet futtat, amelyek arányosak ezzel a paraméterszámmal. Eközben vegyünk egy ekvivalens mélységben szétválasztható konvolúciót: csak 3\\*3\\*64 + 64\\*64 = 4672 betanítható paramétert és arányosan kevesebb lebegőpontos műveletet tartalmaz. Ez a hatékonyságnövekedés csak a szűrők számának vagy a konvolúciós ablakok méretének növekedésével nő.\n",
    "\n",
    ">Ennek eredményeként azt várná, hogy a mélységben szétválasztható konvolúciók drámaian gyorsabbak legyenek, igaz? Kitartás. Ez igaz lenne, ha ezeknek az algoritmusoknak az egyszerű CUDA- vagy C-megvalósításait írnád – valójában jelentős felgyorsulást tapasztalsz, ha CPU-n futsz, ahol az alapul szolgáló implementáció párhuzamos C. A gyakorlatban azonban valószínűleg GPU-t használsz, és amit futtatsz rajta, az messze nem egy „egyszerű” CUDA-megvalósítás: ez egy _cuDNN kernel_, egy rendkívül optimalizált kódrészlet, egészen az egyes gépi utasításokig. Minden bizonnyal érdemes sok erőfeszítést tenni ennek a kódnak a optimalizálására, mivel az NVIDIA hardverén lévő cuDNN konvolúciók felelősek a napi sok exaFLOPS számításért. Ennek az extrém mikrooptimalizálásnak azonban az a mellékhatása, hogy az alternatív megközelítéseknek kevés esélyük van versenyezni a teljesítményben – még olyan megközelítéseknek is, amelyek jelentős belső előnyökkel rendelkeznek, mint például a mélységben szétválasztható konvolúciók. {259.o:->}"
   ]
  },
  {
   "cell_type": "markdown",
   "metadata": {
    "id": "VvQ5E1qxEP-E"
   },
   "source": [
    ">Az NVIDIA-hoz intézett ismételt kérések ellenére a mélységben szétválasztható konvolúciók nem részesültek közel sem olyan szintű szoftver- és hardveroptimalizálásból, mint a hagyományos konvolúciók, és ennek eredményeként csak körülbelül olyan gyorsak maradnak, mint a szokásos konvolúciók, annak ellenére, hogy négyzetesen kevesebb paramétert és lebegőpontos műveletet használnak. Megjegyzendő azonban, hogy a mélységben szétválasztható konvolúciók használata akkor is jó ötlet, ha az nem eredményez gyorsulást: kevesebb paraméterszámuk azt jelenti, hogy kisebb a túltanulás kockázata, és az a feltételezésük, hogy a csatornáknak nem kell korrelálniuk, gyorsabb modellkonvergenciát és robusztusabb megjelenést eredményez.\n",
    "\n",
    ">Ami ebben az esetben enyhe kényelmetlenséget jelent, az más helyzetekben áthatolhatatlan falat jelenthet: mivel a mélytanulás teljes hardver- és szoftver-ökoszisztémáját mikrooptimalizálták egy nagyon specifikus algoritmuskészletre (különösen a visszaterjesztéssel betanított convnetekre), rendkívül nagy költséget jelent a kitaposott útról való letérés. Ha alternatív algoritmusokkal kísérleteznél, mint például a gradiensmentes optimalizálás vagy a spiking neurális hálózatok, az első néhány párhuzamos C++ vagy CUDA implementáció nagyságrendekkel lassabb lenne, mint egy jó öreg convnet, bármilyen ügyes és hatékony ötleteid voltak is. Más kutatókat meggyőzni, hogy alkalmazzák a módszeredet; nehéz lenne eladni, még akkor is, ha egyszerűen csak jobb lenne.\n",
    "\n",
    ">Mondhatnánk, hogy a modern mélytanulás a hardver, a szoftver és az algoritmusok koevolúciós folyamatának eredménye: az NVIDIA GPU-k és a CUDA elérhetősége a visszaterjesztéssel kiképzett convnetek korai sikeréhez vezetett, ami arra késztette az NVIDIA-t, hogy optimalizálja hardverét és szoftverét ezekhez az algoritmusokhoz, ami viszont a módszerek mögött álló kutatói közösség megszilárdulásához vezetett. Ezen a ponton egy másik út kitalálásához az egész ökoszisztéma többéves újratervezésére lenne szükség.\n",
    "\n",
    "---"
   ]
  },
  {
   "cell_type": "markdown",
   "metadata": {
    "id": "2ALiu5ARMBAZ"
   },
   "source": [
    "### 9.3.5 Összeállítás: Egy mini Xception-szerű modell\n",
    "\n",
    "Emlékeztetőül, itt vannak a convnet architektúra alapelvei, amelyeket eddig megtanult:\n",
    "* A modelljét ismétlődő _rétegblokkokba_ kell rendezni, amelyek általában több konvolúciós rétegből és egy max-összevonási rétegből állnak.\n",
    "* A rétegekben lévő szűrők számának növekednie kell, ahogy a térbeli jellemzőtérképek mérete csökken.\n",
    "* A mély és a keskeny jobb, mint a széles és sekély.\n",
    "* A rétegblokkok körüli maradék kapcsolatok bevezetése segít mélyebb hálózatok képzésében.\n",
    "* Előnyös lehet kötegelt normalizálási rétegek bevezetése a konvolúciós rétegek után.\n",
    "* Előnyös lehet a `Conv2D` rétegek lecserélése `SeparableConv2D` rétegekre, amelyek paraméter-hatékonyabbak.\n",
    "\n",
    "Foglaljuk össze ezeket az ötleteket egyetlen modellben. Architektúrája az Xception kisebb verziójához fog hasonlítani, és alkalmazzuk is az utolsó fejezetben szereplő kutyák vs. macskák feladatra. Az adatok betöltéséhez és a modell betanításához egyszerűen újra felhasználjuk a 8.2.5 szakaszban használt beállítást, de a modelldefiníciót a következő convnetre cseréljük:"
   ]
  },
  {
   "cell_type": "code",
   "execution_count": null,
   "metadata": {
    "id": "Of2-yYOPO4F0"
   },
   "outputs": [],
   "source": [
    "inputs = keras.Input(shape=(180, 180, 3))\n",
    "x = data_augmentation(inputs)             #<--- Ugyanazt az adatkiegészítési konfigurációt használjuk, mint korábban.\n",
    "\n",
    "x = layers.Rescaling(1./255)(x)           #<--- Ne felejtse el a bemenet átméretezését!\n",
    "x = layers.Conv2D(filters=32, kernel_size=5, use_bias=False)(x) #<--- Vegye észre, hogy az elválasztható konvolúció\n",
    "                                                                #     alapjául szolgáló feltevés, miszerint\n",
    "                                                                #     „a szolgáltatáscsatornák nagymértékben függetlenek”,\n",
    "                                                                #     az RGB-képek esetében nem érvényesül!\n",
    "                                                                #     A piros, zöld és kék színcsatornák valójában\n",
    "                                                                #     erősen korrelálnak a természetes képeken. Mint ilyen,\n",
    "                                                                #     modellünk első rétege egy normál Conv2D réteg.\n",
    "                                                                #     Ezt követően kezdjük el használni a SeparableConv2D-t.\n",
    "\n",
    "for size in [32, 64, 128, 256, 512]:      #<--- Egy sor konvolúciós blokkot alkalmazunk növekvő jellemzőmélységgel.\n",
    "                                          #     Minden blokk két szakaszosan normalizált, mélységben szétválasztható\n",
    "                                          #     konvolúciós rétegből és egy max pooling rétegből áll,\n",
    "                                          #     maradék kapcsolattal a teljes blokk körül.\n",
    "    residual = x\n",
    "\n",
    "    x = layers.BatchNormalization()(x)\n",
    "    x = layers.Activation(\"relu\")(x)\n",
    "    x = layers.SeparableConv2D(size, 3, padding=\"same\", use_bias=False)(x)\n",
    "\n",
    "    x = layers.BatchNormalization()(x)\n",
    "    x = layers.Activation(\"relu\")(x)\n",
    "    x = layers.SeparableConv2D(size, 3, padding=\"same\", use_bias=False)(x)\n",
    "\n",
    "    x = layers.MaxPooling2D(3, strides=2, padding=\"same\")(x)\n",
    "\n",
    "    residual = layers.Conv2D(\n",
    "        size, 1, strides=2, padding=\"same\", use_bias=False)(residual)\n",
    "    x = layers.add([x, residual])\n",
    "\n",
    "x = layers.GlobalAveragePooling2D()(x)    #<--- Az eredeti modellben egy Flatten réteget használtunk a sűrű réteg előtt.\n",
    "                                          #     Itt egy GlobalAveragePooling2D réteget használunk.\n",
    "x = layers.Dropout(0.5)(x)                #<--- Az eredeti modellhez hasonlóan a szabályozás miatt hozzáadunk egy kiejtő réteget.\n",
    "outputs = layers.Dense(1, activation=\"sigmoid\")(x)\n",
    "model = keras.Model(inputs=inputs, outputs=outputs)"
   ]
  },
  {
   "cell_type": "markdown",
   "metadata": {
    "id": "X2p8YSBHViDd"
   },
   "source": [
    "Ennek a convnetnek 721 857 betanítható paramétere van, valamivel kevesebb, mint az eredeti modell 991 041 tanítható paramétere, de még mindig ugyanazon a pályán. A 9.11. ábra mutatja a betanítási és érvényesítési görbéit."
   ]
  },
  {
   "cell_type": "markdown",
   "metadata": {
    "id": "m8YJEnkvY3_4"
   },
   "source": [
    "![](figs/f9.11_.jpg)\n",
    "\n",
    "**9.11. ábra:** Betanítási és érvényesítési mérőszámok Xception-szerű architektúránál"
   ]
  },
  {
   "cell_type": "markdown",
   "metadata": {
    "id": "9yVWOpG9aKwM"
   },
   "source": [
    "Látni fogja, hogy új modellünk 90,8%-os tesztpontosságot ér el, szemben az előző fejezet naiv modelljének 83,5%-ával. Mint látható, az architektúra bevált szokásainak követése azonnali, jelentős hatással van a modell teljesítményére!\n",
    "\n",
    "Ezen a ponton, ha tovább szeretné javítani a teljesítményt, el kell kezdenie szisztematikusan hangolni az architektúrája hiperparamétereit – ezt a témát a 13. fejezetben részletesen fogjuk tárgyalni. Itt még nem mentünk végig ezen a lépésen, így az előző modell pusztán az általunk már megvitatott legjobb gyakorlatokon alapul, plusz, ha a modell méretének méréséről van szó, egy kis intuíción alapul.\n",
    "\n",
    "Vegye figyelembe, hogy ezek a bevált architektúra-gyakorlatok általában a gépi látásra vonatkoznak, nem csak a képosztályozásra. Például az Xceptiont szabványos konvolúciós alapként használják a DeepLabV3-ban, amely egy népszerű és korszerű képszegmentációs megoldás.[4]\n",
    "\n",
    "Ezzel el is értünk a legfontosabb convnet architektúrák bevált gyakorlatainak végéhez. Ezekkel az elvekkel a kézben tud majd nagyobb teljesítményű modelleket fejleszteni a gépi látási feladatok széles körében. Jó úton halad afelé, hogy gyakorlott gépi látást végző szakemberré váljon. Szakértelmének további elmélyítéséhez még egy fontos témát kell érintenünk: annak megfejtését, hogy egy modell hogyan jut el az előrejelzésekhez.\n",
    "\n",
    "---\n",
    "\n",
    "[4] Liang-Chieh Chen et al., “Encoder-Decoder with Atrous Separable Convolution for Semantic Image Segmentation,” ECCV (2018), https://arxiv.org/abs/1802.02611."
   ]
  },
  {
   "cell_type": "markdown",
   "metadata": {
    "id": "gxedpk00g3Pe"
   },
   "source": [
    "## 9.4 A convnet által tanultak értelmezése\n",
    "\n",
    "A gépi látási alkalmazás elkészítésekor alapvető probléma az értelmezhetőség: miért gondolta az osztályozója, hogy egy adott képen hűtőszekrény található, miközben csak egy teherautót lát? Ez különösen fontos olyan felhasználási esetekben, amikor a mély tanulást az emberi szakértelem kiegészítésére használják, például az orvosi képalkotó felhasználási esetekben. Ezt a fejezetet azzal zárjuk, hogy megismertetjük önnel a különböző technikák széles skáláját, amelyek segítségével megjelenítheti, mit tanulnak a convnet-ek, és képes lesz megérteni az általuk hozott döntéseket.\n",
    "\n",
    "Gyakran mondják, hogy a mély tanulási modellek „fekete dobozok”: olyan reprezentációkat tanulnak meg, amelyeket nehéz kinyerni és ember által olvasható formában bemutatni. Bár ez részben igaz a mély tanulási modellek bizonyos típusaira, határozottan nem igaz a convnetekre. A convnetek által megtanult reprezentációk nagyon alkalmasak a vizualizációra, nagyrészt azért, mert vizuális fogalmak reprezentációi. 2013 óta technikák széles skáláját fejlesztették ki e reprezentációk megjelenítésére és értelmezésére. Nem fogjuk mindegyiket felmérni, de a három legelérhetőbb és leghasznosabbat ismertetjük:\n",
    "* _Köztes convnet kimenetek (köztes aktiválások) megjelenítése_ – Hasznos annak megértéséhez, hogy az egymást követő convnet rétegek hogyan alakítják át bemenetüket, és hogy első képet kapjunk az egyes convnet szűrők jelentéséről\n",
    "* _Convnet szűrők megjelenítése_ – Hasznos annak pontos megértéséhez, hogy a convnet egyes szűrői milyen vizuális mintára vagy koncepcióra képesek.\n",
    "* _Osztályaktiválás hőtérképeinek megjelenítése egy képen_ – Hasznos annak megértéséhez, hogy a kép mely részeit azonosították egy adott osztályhoz tartozóként, így lehetővé teszi az objektumok lokalizálását a képeken\n",
    "\n",
    "Az első módszerhez – az aktiválási vizualizációhoz – azt a kis konvnetet fogjuk használni, amelyet a 8.2-es szakaszban a kutyák kontra macskák osztályozási problémájára a semmiből képeztünk ki. A következő két módszerhez egy előre betanított Xception modellt fogunk használni."
   ]
  },
  {
   "cell_type": "markdown",
   "metadata": {
    "id": "ydK_t3HWbOFO"
   },
   "source": [
    "### 9.4.1 Közbenső aktiválások megjelenítése\n",
    "\n",
    "A közbenső aktiválások megjelenítése abból áll, hogy egy modellben megjelenítjük a különböző konvolúciós és pooling rétegek által visszaadott értékeket egy bizonyos bemenet mellett (egy réteg kimenetét gyakran hívják _aktiválásnak_, az aktiválási függvény kimenetének). Ez képet ad arról, hogy egy bemenet hogyan bomlik fel a hálózat által megtanult különböző szűrőkre. Három dimenzióval szeretnénk megjeleníteni a tereptárgytérképeket: szélesség, magasság és mélység (csatornák). Mindegyik csatorna viszonylag független jellemzőket kódol, ezért ezeknek a jellemzőtérképeknek a megfelelő módja az, hogy minden csatorna tartalmát egymástól függetlenül ábrázoljuk 2D-s képként. Kezdjük a 8.2 szakaszban mentett modell betöltésével:\n",
    "\n",
    "```\n",
    ">>> from tensorflow import keras\n",
    ">>> model = keras.models.load_model(\n",
    "    \"convnet_from_scratch_with_augmentation.keras\")\n",
    ">>> model.summary()\n",
    "```\n",
    "\n",
    "```\n",
    "Model: \"model_1\"\n",
    "_________________________________________________________________\n",
    "Layer (type)                 Output Shape              Param #\n",
    "=================================================================\n",
    "input_2 (InputLayer)         [(None, 180, 180, 3)]     0\n",
    "_________________________________________________________________\n",
    "sequential (Sequential)      (None, 180, 180, 3)       0\n",
    "_________________________________________________________________\n",
    "rescaling_1 (Rescaling)      (None, 180, 180, 3)       0\n",
    "_________________________________________________________________\n",
    "conv2d_5 (Conv2D)            (None, 178, 178, 32)      896\n",
    "_________________________________________________________________\n",
    "max_pooling2d_4 (MaxPooling2 (None, 89, 89, 32)        0\n",
    "_________________________________________________________________\n",
    "conv2d_6 (Conv2D)            (None, 87, 87, 64)        18496\n",
    "_________________________________________________________________\n",
    "max_pooling2d_5 (MaxPooling2 (None, 43, 43, 64)        0\n",
    "_________________________________________________________________\n",
    "conv2d_7 (Conv2D)            (None, 41, 41, 128)       73856\n",
    "_________________________________________________________________\n",
    "max_pooling2d_6 (MaxPooling2 (None, 20, 20, 128)       0\n",
    "_________________________________________________________________\n",
    "conv2d_8 (Conv2D)            (None, 18, 18, 256)       295168\n",
    "_________________________________________________________________\n",
    "max_pooling2d_7 (MaxPooling2 (None, 9, 9, 256)         0\n",
    "_________________________________________________________________\n",
    "conv2d_9 (Conv2D)            (None, 7, 7, 256)         590080\n",
    "_________________________________________________________________\n",
    "flatten_1 (Flatten)          (None, 12544)             0\n",
    "_________________________________________________________________\n",
    "dropout (Dropout)            (None, 12544)             0\n",
    "_________________________________________________________________\n",
    "dense_1 (Dense)              (None, 1)                 12545\n",
    "=================================================================\n",
    "Total params: 991,041\n",
    "Trainable params: 991,041\n",
    "Non-trainable params: 0\n",
    "_________________________________________________________________\n",
    "```\n",
    "\n",
    "Ezután egy bemeneti képet kapunk – egy macskáról készült képet, nem pedig azoknak a képeknek a részét, amelyekre a hálózatot betanították.\n",
    "\n",
    "**9.6 lista: Egyetlen kép előfeldolgozása**"
   ]
  },
  {
   "cell_type": "code",
   "execution_count": null,
   "metadata": {
    "id": "F9HAPZA7fwAo"
   },
   "outputs": [],
   "source": [
    "from tensorflow import keras\n",
    "import numpy as np\n",
    "\n",
    "img_path = keras.utils.get_file(                            #<--- Letöltünk egy tesztképet.\n",
    "    fname=\"cat.jpg\",                                        #\n",
    "    origin=\"https://img-datasets.s3.amazonaws.com/cat.jpg\") #\n",
    "\n",
    "def get_img_array(img_path, target_size):\n",
    "    img = keras.utils.load_img(                             #<--- Nyissuk meg a képfájlt, és méretezzük át.\n",
    "        img_path, target_size=target_size)                  #\n",
    "    array = keras.utils.img_to_array(img)                   #<--- Alakítsuk át a képet egy (180, 180, 3)\n",
    "                                                            #     alakú float32 NumPy tömbbé.\n",
    "    array = np.expand_dims(array, axis=0)                   #<--- Adjunk hozzá egy dimenziót, hogy a tömböt egyetlen minta\n",
    "                                                            #     „kötegévé” alakítsuk. Az alakja most (1, 180, 180, 3).\n",
    "    return array\n",
    "\n",
    "img_tensor = get_img_array(img_path, target_size=(180, 180))"
   ]
  },
  {
   "cell_type": "markdown",
   "metadata": {
    "id": "AalznCvHjZrC"
   },
   "source": [
    "Jelenítsük meg a képet (lásd a 9.12. ábrát).\n",
    "\n",
    "**9.7 lista: A tesztkép megjelenítése**"
   ]
  },
  {
   "cell_type": "code",
   "execution_count": null,
   "metadata": {
    "id": "bAQJU_CEjuv6"
   },
   "outputs": [],
   "source": [
    "import matplotlib.pyplot as plt\n",
    "plt.axis(\"off\")\n",
    "plt.imshow(img_tensor[0].astype(\"uint8\"))\n",
    "plt.show()"
   ]
  },
  {
   "cell_type": "markdown",
   "metadata": {
    "id": "r3Z-Bn1Jj0gO"
   },
   "source": [
    "A megtekinteni kívánt jellemzőtérképek kinyerése érdekében létrehozunk egy Keras-modellt, amely képek kötegeit veszi át bemenetként, és amely kiadja az összes konvolúciós és gyűjtőréteg aktiválását. {264.o:->}"
   ]
  },
  {
   "cell_type": "markdown",
   "metadata": {
    "id": "M7SbKToUkOfo"
   },
   "source": [
    "![](figs/f9.12_.jpg)\n",
    "\n",
    "**9.12. ábra:** A teszt macskakép"
   ]
  },
  {
   "cell_type": "markdown",
   "metadata": {
    "id": "vTa-0CAwlfC0"
   },
   "source": [
    "**9.8 lista: Rétegaktiválásokat visszaadó modell példányosítása**"
   ]
  },
  {
   "cell_type": "code",
   "execution_count": null,
   "metadata": {
    "id": "DAkPyu3tmEE_"
   },
   "outputs": [],
   "source": [
    "from tensorflow.keras import layers\n",
    "\n",
    "layer_outputs = []\n",
    "layer_names = []\n",
    "for layer in model.layers:                                      #<--- Bontsuk ki az összes Conv2D és MaxPooling2D réteg kimenetét,\n",
    "    if isinstance(layer, (layers.Conv2D, layers.MaxPooling2D)): #     és helyezze őket egy listába.\n",
    "        layer_outputs.append(layer.output)                      #\n",
    "        layer_names.append(layer.name)                                    #<--- Mentsük el a rétegneveket későbbre.\n",
    "activation_model = keras.Model(inputs=model.input, outputs=layer_outputs) #<--- Hozzunk létre egy modellt, amely visszaadja ezeket\n",
    "                                                                          #     a kimeneteket a modell bemenetének függvényében."
   ]
  },
  {
   "cell_type": "markdown",
   "metadata": {
    "id": "Gn1a7lL6nv7G"
   },
   "source": [
    "Amikor képbemenettel tápláljuk, ez a modell listaként adja vissza az eredeti modellben szereplő rétegaktiválások értékeit. Ez az első alkalom, hogy a gyakorlatban találkozott több kimenetes modellel ebben a könyvben, mióta a 7. fejezetben megismerte őket; eddig az ön által látott modellek pontosan egy bemenettel és egy kimenettel rendelkeztek. Ennek egy bemenete és kilenc kimenete van: rétegaktiválásonként egy kimenet.\n",
    "\n",
    "**9.9 lista: A modell használata rétegaktiválások kiszámítására**"
   ]
  },
  {
   "cell_type": "code",
   "execution_count": null,
   "metadata": {
    "id": "UJ0dMjK7ozDB"
   },
   "outputs": [],
   "source": [
    "activations = activation_model.predict(img_tensor)  #<--- Kilenc NumPy tömbből álló lista visszaadása:\n",
    "                                                    #     rétegaktiválásonként egy tömb."
   ]
  },
  {
   "cell_type": "markdown",
   "metadata": {
    "id": "KaVQsCCbpcKq"
   },
   "source": [
    "Például ez az első konvolúciós réteg aktiválása a macskakép bemenethez:\n",
    "\n",
    "```\n",
    ">>> first_layer_activation = activations[0]\n",
    ">>> print(first_layer_activation.shape)\n",
    "(1, 178, 178, 32)\n",
    "```\n",
    "Ez egy 178 × 178-as jellemzőtérkép 32 csatornával. Próbáljuk meg felrajzolni az eredeti modell első rétege aktiválásának ötödik csatornáját (lásd a 9.13. ábrát).\n",
    "\n",
    "**9.10 lista: Az ötödik csatorna megjelenítése**"
   ]
  },
  {
   "cell_type": "code",
   "execution_count": null,
   "metadata": {
    "id": "8buXDIYsqy4h"
   },
   "outputs": [],
   "source": [
    "import matplotlib.pyplot as plt\n",
    "plt.matshow(first_layer_activation[0, :, :, 5], cmap=\"viridis\")"
   ]
  },
  {
   "cell_type": "markdown",
   "metadata": {
    "id": "6I-WbJfGq4Vm"
   },
   "source": [
    "![](figs/f9.13_.jpg)\n",
    "\n",
    "**9.13. ábra:** Az első réteg aktiválásának ötödik csatornája a teszt macskaképen"
   ]
  },
  {
   "cell_type": "markdown",
   "metadata": {
    "id": "LTTeFwpvsGXQ"
   },
   "source": [
    "Úgy tűnik, hogy ez a csatorna egy átlós élérzékelőt kódol, de vegye figyelembe, hogy a saját csatornái változhatnak, mivel a konvolúciós rétegek által megtanult szűrők nem determinisztikusak.\n",
    "\n",
    "Most rajzoljuk meg a hálózat összes aktiválásának teljes megjelenítését (lásd a 9.14. ábrát). Minden egyes rétegaktiválásnál kibontjuk és ábrázoljuk az összes csatornát, az eredményeket pedig egy nagy rácsba halmozzuk, a csatornákat pedig egymás mellé rakjuk.\n",
    "\n",
    "**9.11 lista: Minden csatorna megjelenítése minden közbenső aktiválásban**"
   ]
  },
  {
   "cell_type": "code",
   "execution_count": null,
   "metadata": {
    "id": "fyBDJ3Q2s5TM"
   },
   "outputs": [],
   "source": [
    "images_per_row = 16\n",
    "for layer_name, layer_activation in zip(layer_names, activations):  #<--- Iteráljunk az aktiválásokon (és a megfelelő rétegek nevein).\n",
    "    n_features = layer_activation.shape[-1]                         #<--- A rétegaktiválás alakja (1, size, size, n_features).\n",
    "    size = layer_activation.shape[1]                                #\n",
    "    n_cols = n_features // images_per_row\n",
    "    display_grid = np.zeros(((size + 1) * n_cols - 1,           #<--- Készítsünk elő egy üres rácsot az összes csatorna\n",
    "                             images_per_row * (size + 1) - 1))  #     megjelenítéséhez ebben az aktiválásban.\n",
    "    for col in range(n_cols):\n",
    "        for row in range(images_per_row):\n",
    "            channel_index = col * images_per_row + row\n",
    "            channel_image = layer_activation[0, :, :, channel_index].copy() #<--- Ez egyetlen csatorna (vagy jellemző).\n",
    "            if channel_image.sum() != 0:                                    #<--- A csatornaértékek normalizálása\n",
    "                channel_image -= channel_image.mean()                       #     a [0, 255] tartományon belül.\n",
    "                channel_image /= channel_image.std()                        #     Az összes nulla csatorna nullán marad.\n",
    "                channel_image *= 64                                         #\n",
    "                channel_image += 128                                        #\n",
    "            channel_image = np.clip(channel_image, 0, 255).astype(\"uint8\")  #\n",
    "            display_grid[\n",
    "                col * (size + 1): (col + 1) * size + col,                   #<--- Helyezze a csatornamátrixot\n",
    "                row * (size + 1) : (row + 1) * size + row] = channel_image  #     az általunk készített üres rácsba.\n",
    "    scale = 1. / size                                         #<--- Jelenítse meg a réteg rácsát.\n",
    "    plt.figure(figsize=(scale * display_grid.shape[1],        #\n",
    "                        scale * display_grid.shape[0]))       #\n",
    "    plt.title(layer_name)                                     #\n",
    "    plt.grid(False)                                           #\n",
    "    plt.axis(\"off\")                                           #\n",
    "    plt.imshow(display_grid, aspect=\"auto\", cmap=\"viridis\")   #"
   ]
  },
  {
   "cell_type": "markdown",
   "metadata": {
    "id": "MQrdfdRX4WO5"
   },
   "source": [
    "![](figs/f9.14_.jpg)\n",
    "\n",
    "**9.14. ábra:** Minden rétegaktiválás minden csatornája a teszt macskaképen"
   ]
  },
  {
   "cell_type": "markdown",
   "metadata": {
    "id": "6cZxM5fr5rwz"
   },
   "source": [
    "Itt érdemes megjegyezni néhány dolgot:\n",
    "* Az első réteg különböző élérzékelők gyűjteményeként működik. Ebben a szakaszban az aktiválások szinte az összes információt megőrzik, amely a kezdeti képen található.\n",
    "* Ahogy mélyebbre megyünk, az aktiválások egyre elvontabbá és vizuálisan kevésbé értelmezhetőbvé válnak. Elkezdik kódolni az olyan magasabb szintű fogalmakat, mint a „macskafül” és a „macskaszem”. A mélyebb bemutatók egyre kevesebb információt hordoznak a kép vizuális tartalmáról, és egyre több a kép osztályához kapcsolódó információ.\n",
    "* Az aktiválások ritkasága a réteg mélységével növekszik: az első rétegben szinte minden szűrőt aktivál a bemeneti kép, de a következő rétegekben egyre több szűrő üres. Ez azt jelenti, hogy a szűrő által kódolt minta nem található a bemeneti képen.\n",
    "\n",
    "Az imént igazoltuk a mély neurális hálózatok által tanult megjelenések egy fontos univerzális jellemzőjét: a rétegek által kinyert jellemzők a réteg mélységével egyre absztraktabbá válnak. A magasabb rétegek aktiválásai egyre kevesebb információt hordoznak a látott konkrét bemenetről, és egyre több információt a célról (jelen esetben a kép osztályáról: macska vagy kutya). A mély neurális hálózat hatékonyan működik _információdesztilláló csővezetékként_, ahol a nyers adatok (jelen esetben RGB-képek) mennek be, és ismételten átalakulnak, így kiszűrik a nem fontos információkat (például a kép sajátos vizuális megjelenését), és a hasznos információkat felnagyítja illetve finomítja (például a kép osztályát).\n",
    "\n",
    "Ez analóg azzal, ahogyan az emberek és az állatok érzékelik a világot: egy jelenet néhány másodperces megfigyelése után az ember emlékszik, hogy milyen absztrakt tárgyak voltak benne (bicikli, fa), de nem emlékszik ezeknek a tárgyaknak a konkrét megjelenésére. Valójában, ha megpróbált emlékezetből lerajzolni egy általános kerékpárt, nagy valószínűséggel még távolról sem tudta helyesen megcsinálni, pedig több ezer kerékpárt látott már élete során (lásd például a 9.15. ábrát). Próbáld ki most: ez a hatás teljesen valódi. Az agy megtanulta teljesen absztrahálni a vizuális bemenetet – magas szintű vizuális fogalmakká alakítani, miközben kiszűri a nem fontos vizuális részleteket –, ami rendkívül nehézzé teszi a körülötted lévő dolgok kinézetére való emlékezést."
   ]
  },
  {
   "cell_type": "markdown",
   "metadata": {
    "id": "tgQcHhAYAQtB"
   },
   "source": [
    "![](figs/f9.15_.jpg)\n",
    "\n",
    "**9.15. ábra:** Balra: az emlékezetből megrajzolni próbált kerékpár. Jobbra: amilyennek egy sematikus kerékpárnak lennie kell."
   ]
  },
  {
   "cell_type": "markdown",
   "metadata": {
    "id": "rf42g_q4DUce"
   },
   "source": [
    "### 9.4.2 Convnet szűrők megjelenítése\n",
    "\n",
    "A convnets által megtanult szűrők ellenőrzésének másik egyszerű módja annak a vizuális mintának a megjelenítése, amelyre az egyes szűrőknek reagálniuk kell. Ez megtehető _gradiens emelkedéssel a bemeneti térben_: _gradiens ereszkedés_ alkalmazása a convnet bemeneti képének értékére, hogy _maximalizálja_ egy adott szűrő válaszát, egy üres bemeneti képből kiindulva. Az eredményül kapott bemeneti kép olyan lesz, amelyre a kiválasztott szűrő maximálisan reagál.\n",
    "\n",
    "Próbáljuk meg ezt az Xception modell ImageNeten előképzett szűrőivel. A folyamat egyszerű: felállítunk egy veszteségfüggvényt, amely maximalizálja egy adott szűrő értékét egy adott konvolúciós rétegben, majd sztochasztikus gradiens süllyedés segítségével állítsuk be a bemeneti kép értékeit úgy, hogy maximalizáljuk ezt az aktiválási értéket. Ez lesz a második példánk a `GradientTape` objektumot kihasználó alacsony szintű gradiens süllyedési hurokra (az első a 2. fejezetben volt).\n",
    "\n",
    "Először is példányosítsunk egy olyan Xception-modellt, amely az ImageNet adatkészleten előképzett súlyokkal van \"megterhelve\".\n",
    "\n",
    "**9.12 lista: Az Xception konvolúciós alap példányosítása**"
   ]
  },
  {
   "cell_type": "code",
   "execution_count": null,
   "metadata": {
    "id": "YnG39FfjSEEZ"
   },
   "outputs": [],
   "source": [
    "model = keras.applications.xception.Xception(\n",
    "    weights=\"imagenet\",\n",
    "    include_top=False)    #<--- Az osztályozási rétegek ebben a felhasználási esetben nem fontosak,\n",
    "                          #     ezért a modell legfelső szakaszát nem vesszük figyelembe."
   ]
  },
  {
   "cell_type": "markdown",
   "metadata": {
    "id": "f3C9RoXsS9ZG"
   },
   "source": [
    "A modell konvolúciós rétegei érdekelnek bennünket – a `Conv2D` és a `SeparableConv2D` rétegek. Tudnunk kell a nevüket, hogy visszakereshessük a kimeneteiket. Nyomtassuk ki a nevüket, mélységi sorrendben.\n",
    "\n",
    "**9.13 lista: Az Xception modell összes konvolúciós rétege nevének kinyomtatása**"
   ]
  },
  {
   "cell_type": "code",
   "execution_count": null,
   "metadata": {
    "id": "UTNzlcdFVJ-U"
   },
   "outputs": [],
   "source": [
    "for layer in model.layers:\n",
    "    if isinstance(layer, (keras.layers.Conv2D, keras.layers.SeparableConv2D)):\n",
    "        print(layer.name)"
   ]
  },
  {
   "cell_type": "markdown",
   "metadata": {
    "id": "ntDZPzHUVOnD"
   },
   "source": [
    "Észre fogja venni, hogy az itt található `SeparableConv2D` rétegek elnevezése pl. `block6_sepconv1`, `block7_sepconv2` stb. Az Xception blokkokra épül, amelyek mindegyike több konvolúciós réteget tartalmaz.\n",
    "\n",
    "Most pedig hozzunk létre egy második modellt, amely egy adott réteg kimenetét adja vissza – egy _jellemzőkivonó_ modellt. Mivel a modellünk egy Funkcionális API-modell, megvizsgálható: le tudjuk kérdezni az egyik rétegének _kimenetét_, és újra felhasználhatjuk egy új modellben. Nem kell átmásolni a teljes Xception kódot. {269.o:->}\n",
    "\n",
    "**9.14 lista: A jellemzőkivonó modell létrehozása**"
   ]
  },
  {
   "cell_type": "code",
   "execution_count": null,
   "metadata": {
    "id": "X5hb53SNYGTB"
   },
   "outputs": [],
   "source": [
    "layer_name = \"block3_sepconv1\"    #<--- Ezt lecserélheti az Xception konvolúciós alapban lévő bármely réteg nevére.\n",
    "layer = model.get_layer(name=layer_name)    #<--- Ez az a rétegobjektum, amely minket érdekel.\n",
    "feature_extractor = keras.Model(inputs=model.input, outputs=layer.output) #<--- A model.input és a layer.output segítségével\n",
    "                                                                          #     olyan modellt hozunk létre, amely\n",
    "                                                                          #     egy bemeneti kép alapján a célrétegünk\n",
    "                                                                          #     kimenetét adja vissza."
   ]
  },
  {
   "cell_type": "markdown",
   "metadata": {
    "id": "hil9cN9ZacRG"
   },
   "source": [
    "Ennek a modellnek a használatához egyszerűen hívja meg azt néhány bemeneti adattal (megjegyzendő, hogy az Xception elvárja a bemenetek előfeldolgozását a `keras.applications.xception.preprocess_input` függvényen keresztül).\n",
    "\n",
    "**9.15 lista: A jellemzőkivonó használata**"
   ]
  },
  {
   "cell_type": "code",
   "execution_count": null,
   "metadata": {
    "id": "k8Bx7OTLcAd7"
   },
   "outputs": [],
   "source": [
    "activation = feature_extractor(\n",
    "    keras.applications.xception.preprocess_input(img_tensor)\n",
    ")"
   ]
  },
  {
   "cell_type": "markdown",
   "metadata": {
    "id": "AfbqEqFZcEMK"
   },
   "source": [
    "Használjuk a jellemzőkivonó modellünket egy olyan függvény definiálására, amely skaláris értéket ad vissza, amely számszerűsíti, hogy egy adott bemeneti kép mennyire „aktiválja” az adott szűrőt a rétegben. Ez a „veszteség függvény”, amelyet maximalizálunk a gradiens emelkedési folyamat során:"
   ]
  },
  {
   "cell_type": "code",
   "execution_count": null,
   "metadata": {
    "id": "8lsqAX5Jc3AO"
   },
   "outputs": [],
   "source": [
    "import tensorflow as tf\n",
    "\n",
    "def compute_loss(image, filter_index):    #<--- A veszteségfüggvény átvesz egy képtenzort\n",
    "                                          #     és a vizsgált szűrő indexét (egy egész számot).\n",
    "    activation = feature_extractor(image)\n",
    "    filter_activation = activation[:, 2:-2, 2:-2, filter_index] #<--- Ne feledje: hogy elkerüljük a szegély hibafoltjait,\n",
    "                                                                #     csak a nem-szegély képpontokat vonjuk be a veszteségbe;\n",
    "                                                                #     eldobjuk az első két pixelt az aktiválás oldalai mentén.\n",
    "    return tf.reduce_mean(filter_activation)    #<--- Visszaadjuk a szűrő aktiválási értékeinek átlagát."
   ]
  },
  {
   "cell_type": "markdown",
   "metadata": {
    "id": "39VhKFD7gozk"
   },
   "source": [
    "---\n",
    "\n",
    "**A `model.predict(x)` és a `model(x)` közötti különbség**\n",
    "\n",
    "Az előző fejezetben a `predict(x)`-et használtuk a jellemzők kinyerésére. Itt a `model(x)`-et használjuk. Mi az oka?\n",
    "\n",
    "Mind az `y = model.predict(x)`, mind az `y = modell(x)` (ahol `x` a bemeneti adatok tömbje) azt jelenti, hogy „futtassa le a modellt `x`-re, és kérje le az `y` kimenetet”. Mégsem teljesen ugyanazok.\n",
    "\n",
    "A `predict()` ciklusok kötegenként haladnak át az adatokon (sőt, a köteg méretét a `predict(x, batch_size=64)` paranccsal meg is adhatjuk), és ez kivonja a kimenetek NumPy értékét. Sematikusan ezzel egyenértékű:"
   ]
  },
  {
   "cell_type": "code",
   "execution_count": null,
   "metadata": {
    "id": "n5KY9v5hmh-0"
   },
   "outputs": [],
   "source": [
    "def predict(x):\n",
    "    y_batches = []\n",
    "    for x_batch in get_batches(x):\n",
    "        y_batch = model(x).numpy()\n",
    "        y_batches.append(y_batch)\n",
    "    return np.concatenate(y_batches)"
   ]
  },
  {
   "cell_type": "markdown",
   "metadata": {
    "id": "gxU2cg0BnK7s"
   },
   "source": [
    "Ez azt jelenti, hogy a `predict()` hívások nagyon nagy tömbökre skálázhatók. Eközben a `model(x)` a memóriában fut le, és nem méreteződik. Másrészt, a `predict()` nem differenciálható: a gradiensét nem lehet lekérni, ha `GradientTape` hatókörben hívjuk meg.\n",
    "\n",
    "Használja a `model(x)`-et, ha a modellhívás gradienseit kell lekérnie, és használja a `predict()`-et, ha csak a kimeneti értékre van szüksége. Más szóval, mindig használja a `predict()` függvényt, kivéve, ha éppen egy alacsony szintű gradiens ereszkedési ciklust ír (mint most).\n",
    "\n",
    "---"
   ]
  },
  {
   "cell_type": "markdown",
   "metadata": {
    "id": "bTM1UGxepm-D"
   },
   "source": [
    "Állítsuk be a gradiens emelkedési lépés függvényt a `GradientTape` segítségével. Jegyezze meg, hogy a `@tf.function` dekorátort fogjuk használni a gyorsításához.\n",
    "\n",
    "Egy nem nyilvánvaló trükk a gradiens ereszkedés folyamatának zökkenőmentes lebonyolítására az, hogy normalizáljuk a gradiens tenzort úgy, hogy elosztjuk az L2 normájával (a tenzorban lévő értékek négyzetes átlagának négyzetgyökével). Ez biztosítja, hogy a bemeneti képen végrehajtott frissítések nagysága mindig ugyanabban a tartományban legyen.\n",
    "\n",
    "**9.16. lista: Veszteségmaximalizálás sztochasztikus gradiens emelkedés révén**"
   ]
  },
  {
   "cell_type": "code",
   "execution_count": null,
   "metadata": {
    "id": "YkPMWQt0aYgt"
   },
   "outputs": [],
   "source": [
    "@tf.function\n",
    "def gradient_ascent_step(image, filter_index, learning_rate):\n",
    "    with tf.GradientTape() as tape:\n",
    "        tape.watch(image)                         #<--- Kifejezetten ügyeljen a kép tenzorára, mivel az nem\n",
    "                                                  #     egy TensorFlow változó (csak a változókat figyeli\n",
    "                                                  #     a rendszer automatikusan a gradiens szalagon).\n",
    "        loss = compute_loss(image, filter_index)  #<--- Kiszámítja a veszteség skalárt, jelezve,\n",
    "                                                  #     hogy a jelenenlegi kép mennyire aktiválja a szűrőt.\n",
    "    grads = tape.gradient(loss, image)            #<--- Számítsa ki a képre vonatkozó veszteség gradienseit.\n",
    "    grads = tf.math.l2_normalize(grads)           #<--- Alkalmazza a „gradiens normalizálási trükköt”.\n",
    "    image += learning_rate * grads                #<--- Mozgatja a képet egy kicsit olyan irányba,\n",
    "                                                  #     amely erősebben aktiválja a célszűrőnket.\n",
    "    return image                                  #<--- Visszaadjuk a frissített képet,\n",
    "                                                  #     hogy a step függvényt ciklusban tudjuk futtatni."
   ]
  },
  {
   "cell_type": "markdown",
   "metadata": {
    "id": "dH9Gpv-qermg"
   },
   "source": [
    "Most megvan az összes darab. Állítsuk össze őket egy Python-függvénnyel, amely bemenetként egy rétegnevet és egy szűrőindexet vesz át, és egy olyan tenzort ad vissza, amely azt a mintát reprezentálja, amely maximalizálja a megadott szűrő aktiválását.\n",
    "\n",
    "**9.17 lista: Függvény a szűrővizualizációk generálására**"
   ]
  },
  {
   "cell_type": "code",
   "execution_count": null,
   "metadata": {
    "id": "NA1_Za3_gxSA"
   },
   "outputs": [],
   "source": [
    "img_width = 200\n",
    "img_height = 200\n",
    "\n",
    "def generate_filter_pattern(filter_index):\n",
    "    iterations = 30                           #<--- Az alkalmazni kívánt gradiens emelkedési lépések száma\n",
    "    learning_rate = 10.                       #<--- Egyetlen lépés amplitúdója\n",
    "    image = tf.random.uniform(\n",
    "        minval=0.4,\n",
    "        maxval=0.6,\n",
    "        shape=(1, img_width, img_height, 3))  #<--- Inicializálunk egy képtenzort véletlenszerű értékekkel\n",
    "                                              #     (az Xception modell a [0, 1] tartományban várja a bemeneti értékeket,\n",
    "                                              #     ezért itt egy 0.5-ös középpontú tartományt választunk).\n",
    "    for i in range(iterations):                                           #<--- Ismételten frissítjük a képtenzor értékeit,\n",
    "        image = gradient_ascent_step(image, filter_index, learning_rate)  #     hogy maximalizáljuk a veszteségfüggvényünket.\n",
    "    return image[0].numpy()"
   ]
  },
  {
   "cell_type": "markdown",
   "metadata": {
    "id": "iYPNPWuTjlVW"
   },
   "source": [
    "Az eredményül kapott képtenzor egy (200, 200, 3) alakú lebegőpontos tömb, amelynek értékei nem lehetnek [0, 255]-ön belüli egészek. Ezért ezt a tenzort utólag kell feldolgoznunk, hogy megjeleníthető képpé alakítsuk. Ezt a következő egyszerű segédfüggvénnyel tesszük.\n",
    "\n",
    "**9.18 lista: Segédfüggvény a tenzor érvényes képpé konvertálásához**"
   ]
  },
  {
   "cell_type": "code",
   "execution_count": null,
   "metadata": {
    "id": "azxfEDFJVji4"
   },
   "outputs": [],
   "source": [
    "def deprocess_image(image):\n",
    "    image -= image.mean()                           #<--- Normalizáljuk a képértékeket a [0, 255] tartományon belülre.\n",
    "    image /= image.std()                            #\n",
    "    image *= 64                                     #\n",
    "    image += 128                                    #\n",
    "    image = np.clip(image, 0, 255).astype(\"uint8\")  #\n",
    "    image = image[25:-25, 25:-25, :]                #<--- Levágjuk a széleit, hogy elkerüljük a szegély hibafoltjait.\n",
    "    return image"
   ]
  },
  {
   "cell_type": "markdown",
   "metadata": {
    "id": "R6IAOXodV6vf"
   },
   "source": [
    "Próbáljuk ki (lásd a 9.16. ábrát):\n",
    "\n",
    "```\n",
    ">>> plt.axis(\"off\")\n",
    ">>> plt.imshow(deprocess_image(generate_filter_pattern(filter_index=2)))\n",
    "```"
   ]
  },
  {
   "cell_type": "markdown",
   "metadata": {
    "id": "aTDQw133YFbf"
   },
   "source": [
    "![](figs/f9.16_.jpg)\n",
    "\n",
    "**9.16. ábra:** Minta, amelyre a `block3_sepconv1` réteg második csatornája maximálisan reagál"
   ]
  },
  {
   "cell_type": "markdown",
   "metadata": {
    "id": "gF7CFqLzZF1E"
   },
   "source": [
    "Úgy tűnik, hogy a `block3_sepconv1` réteg 0-s szűrője olyan vízszintes vonalmintázatra reagál, ami kissé vízszerű vagy szőrmeszerű.\n",
    "Most jön a mókás rész: elkezdhetjük megjeleníteni a réteg minden szűrőjét, sőt a modell minden rétegében lévő összes szűrőt is.\n",
    "\n",
    "**9.19 lista: Rács létrehozása az összes szűrő válaszmintájáról egy rétegben**"
   ]
  },
  {
   "cell_type": "code",
   "execution_count": null,
   "metadata": {
    "id": "5WAckkc_cOWA"
   },
   "outputs": [],
   "source": [
    "all_images = []                                 #<--- A réteg első 64 szűrője vizualizációinak létrehozása és mentése.\n",
    "for filter_index in range(64):\n",
    "    print(f\"Processing filter {filter_index}\")\n",
    "    image = deprocess_image(\n",
    "        generate_filter_pattern(filter_index)\n",
    "    )\n",
    "    all_images.append(image)\n",
    "\n",
    "margin = 5      #<--- Előkészítünk egy üres vásznat, amelyre beilleszthetjük a szűrővizualizációkat.\n",
    "n = 8\n",
    "cropped_width = img_width - 25 * 2\n",
    "cropped_height = img_height - 25 * 2\n",
    "width = n * cropped_width + (n - 1) * margin\n",
    "height = n * cropped_height + (n - 1) * margin\n",
    "stitched_filters = np.zeros((width, height, 3))\n",
    "\n",
    "for i in range(n):          #<--- Töltsük ki a képet az elmentett szűrőkkel.\n",
    "    for j in range(n):\n",
    "        image = all_images[i * n + j]\n",
    "        stitched_filters[\n",
    "            row_start = (cropped_width + margin) * i\n",
    "            row_end = (cropped_width + margin) * i + cropped_width\n",
    "            column_start = (cropped_height + margin) * j\n",
    "            column_end = (cropped_height + margin) * j + cropped_height\n",
    "\n",
    "            stitched_filters[\n",
    "                row_start: row_end,\n",
    "                column_start: column_end, :] = image\n",
    "keras.utils.save_img(                                         #<--- Mentsük a vásznat a lemezre.\n",
    "    f\"filters_for_layer_{layer_name}.png\", stitched_filters)"
   ]
  },
  {
   "cell_type": "markdown",
   "metadata": {
    "id": "4HG1bMLYfQkY"
   },
   "source": [
    "Ezek a szűrővizualizációk (lásd a 9.17. ábrát) sokat elárulnak arról, hogy a convnet rétegek hogyan látják a világot: a convnet minden rétege megtanulja a szűrők gyűjteményét, így a bemeneteiket a szűrők kombinációjaként lehet kifejezni. Ez hasonló ahhoz, ahogy a Fourier-transzformáció a jeleket koszinuszfüggvények sorozatára bontja. Ezekben a convnet szűrősorokban lévő szűrők egyre bonyolultabbá és finomabbá válnak, ahogy egyre mélyebbre megyünk a modellben:\n",
    "* A modell első rétegeiből származó szűrők egyszerű irányított éleket és színeket kódolnak (vagy bizonyos esetekben színes éleket).\n",
    "* A halomban kicsit feljebb lévő rétegekből származó szűrők, mint például a `block4_sepconv1`, egyszerű textúrákat kódolnak, amelyek élek és színek kombinációjából készülnek.\n",
    "* A magasabb (a fordító megj.: a kimenethez közelebb lévő) rétegekben lévő szűrők kezdenek hasonlítani a természetes képeken található textúrákhoz: tollak, szemek, levelek stb."
   ]
  },
  {
   "cell_type": "markdown",
   "metadata": {
    "id": "hK_KT7dmiUPK"
   },
   "source": [
    "![](figs/f9.17_.jpg)\n",
    "\n",
    "**9.17. ábra:** Néhány szűrőminta a `block2_sepconv1, block4_sepconv1` és `block8_sepconv1` rétegekhez"
   ]
  },
  {
   "cell_type": "markdown",
   "metadata": {
    "id": "qa7vFTYzpcHn"
   },
   "source": [
    "###9.4.3 Az osztály aktiválás hőtérképeinek megjelenítése\n",
    "\n",
    "Bemutatunk még egy vizualizációs technikát – egy olyan technikát, amely hasznos annak megértéséhez, hogy egy adott kép mely részei vezettek a convnet végső osztályozási döntéséhez. Ez hasznos a convnet döntési folyamatának „hibakeresésében”, különösen osztályozási hiba esetén (ez a _modell értelmezhetőségének_ nevezett problématartomány). Ez azt is lehetővé teheti, hogy meghatározott objektumokat keressünk a képen.\n",
    "\n",
    "A technikák ezen általános kategóriáját _osztályaktivációs térkép_ (CAM = class activation map) megjelenítésnek nevezik, és az osztályaktiválás hőtérképeinek a bemeneti képeken való létrehozásából áll. Az osztályaktiválási hőtérkép egy adott kimeneti osztályhoz tartozó pontszámok 2D-s rácsa, amely bármely bemeneti kép minden helyére kiszámításra kerül, jelezve, hogy az egyes helyek mennyire fontosak az adott osztály szempontjából. Például egy kutya-macskák convnetbe betáplált kép esetén a CAM-vizualizáció lehetővé teszi, hogy hőtérképet hozzon létre a „macska” osztály számára, jelezve, hogy a kép különböző részei mennyire macskaszerűek, valamint egy hőtérképet a „kutya” osztály számára, jelezve, hogy a képnek mennyire vannak kutyaszerű részei.\n",
    "\n",
    "Az általunk használt konkrét megvalósítás a „Grad-CAM: Vizuális magyarázatok mély hálózatokról gradiens alapú lokalizáción keresztül” című cikkben található.[5]\n",
    "\n",
    "---\n",
    "\n",
    "[5] Ramprasaath R. Selvaraju et al., arXiv (2017), https://arxiv.org/abs/1610.02391.\n",
    "\n",
    "A Grad-CAM abból áll, hogy felveszi egy konvolúciós réteg kimeneti jellemzőtérképét egy bemeneti képpel kapcsolatban, és az adott jellemzőtérképen lévő minden csatornát az osztály csatornához viszonyított gradiensével súlyozza. Ezen trükk intuitív módon való megértésének egyik módja az, ha elképzeljük, hogy azt a térbeli térképet, hogy „a bemeneti kép milyen intenzíven aktiválja a különböző csatornákat” azzal súlyozzuk, hogy „mennyire fontosak az egyes csatornák az osztály szempontjából”, ennek egy olyan térbeli térkép lesz az eredménye, hogy \"milyen intenzíven aktiválja a bemeneti kép az osztályt.\"\n",
    "\n",
    "Mutassuk be ezt a technikát az előre betanított Xception modell segítségével."
   ]
  },
  {
   "cell_type": "markdown",
   "metadata": {
    "id": "gYlcExWwqiNW"
   },
   "source": [
    "**9.20 lista: Az Xception hálózat előképzett súlyokkal való betöltése**"
   ]
  },
  {
   "cell_type": "code",
   "execution_count": null,
   "metadata": {
    "id": "jIO7cD_2reYp"
   },
   "outputs": [],
   "source": [
    "model = keras.applications.xception.Xception(weights=\"imagenet\")  #<--- Ne feledje, hogy a sűrűn kapcsolt osztályozót\n",
    "                                                                  #     a tetejére helyezzük; minden korábbi esetben elvetettük."
   ]
  },
  {
   "cell_type": "markdown",
   "metadata": {
    "id": "-3gdzqSgrmQR"
   },
   "source": [
    "Tekintsük a 9.18. ábrán látható két afrikai elefánt képét, esetleg egy anyát és a borjút, amint a szavannán sétálnak. Alakítsuk át ezt a képet olyasvalamivé, amit az Xception modell is tud olvasni: a modellt 299 × 299 méretű képekre képezték, amelyeket néhány olyan szabály szerint előfeldolgoztak, amelyek a `keras.applications.xception.preprocess_input` segédprogramba vannak becsomagolva. Tehát be kell töltenünk a képet, át kell méreteznünk 299 × 299-re, át kell alakítanunk NumPy `float32` tenzorrá, és alkalmazni kell ezeket az előfeldolgozási szabályokat.\n",
    "\n",
    "**9.21 lista: Bemeneti kép előfeldolgozása az Xception számára**"
   ]
  },
  {
   "cell_type": "code",
   "execution_count": null,
   "metadata": {
    "id": "LUYBye8ruyE1"
   },
   "outputs": [],
   "source": [
    "img_path = keras.utils.get_file(\n",
    "    fname=\"elephant.jpg\",\n",
    "    origin=\"https://img-datasets.s3.amazonaws.com/elephant.jpg\")  #<--- Töltse le a képet, és tárolja helyben az\n",
    "                                                                  #     img_path elérési útvonalon.\n",
    "def get_img_array(img_path, target_size):\n",
    "    img = keras.utils.load_img(img_path, target_size=target_size) #<--- 299 × 299 méretű Python Imaging Library (PIL)\n",
    "                                                                  #     képet adjon vissza.\n",
    "    array = keras.utils.img_to_array(img)                         #<--- Adjon vissza egy (299, 299, 3) alakú float32 NumPy tömböt.\n",
    "    array = np.expand_dims(array, axis=0)                         #<--- Adjon hozzá egy dimenziót a tömb (1, 299, 299, 3)\n",
    "                                                                  #     méretű köteggé alakítása végett.\n",
    "    array = keras.applications.xception.preprocess_input(array)   #<--- A köteg előfeldolgozása\n",
    "                                                                  #     (ez csatorna szerinti színnormalizálást végez).\n",
    "    return array\n",
    "\n",
    "img_array = get_img_array(img_path, target_size=(299, 299))"
   ]
  },
  {
   "cell_type": "markdown",
   "metadata": {
    "id": "ylpA7DQRyfZb"
   },
   "source": [
    "![](figs/f9.18_.jpg)\n",
    "\n",
    "**9.18. ábra:** Tesztkép afrikai elefántokról"
   ]
  },
  {
   "cell_type": "markdown",
   "metadata": {
    "id": "H6Tb_ZJQzZeK"
   },
   "source": [
    "Most már futtathatja az előre betanított hálózatot a képen, és visszafejtheti a predikciós vektort egy ember által olvasható formátumba:\n",
    "\n",
    "```\n",
    ">>> preds = model.predict(img_array)\n",
    ">>> print(keras.applications.xception.decode_predictions(preds, top=3)[0])\n",
    "[(\"n02504458\", \"African_elephant\", 0.8699266),\n",
    " (\"n01871265\", \"tusker\", 0.076968715),\n",
    " (\"n02504013\", \"Indian_elephant\", 0.02353728)]\n",
    "```\n",
    "\n",
    "A képhez előre jelzett három legjobb osztály a következő:\n",
    "* Afrikai elefánt (87%-os valószínűséggel)\n",
    "* Tusker (7%-os valószínűséggel)\n",
    "* Indiai elefánt (2%-os valószínűséggel)\n",
    "\n",
    "A hálózat felismerte, hogy a kép meghatározatlan mennyiségű afrikai elefántot tartalmaz. A predikciós vektor maximálisan aktivált bejegyzése az „afrikai elefánt” osztálynak felel meg a 386-os indexnél:\n",
    "\n",
    "```\n",
    ">>> np.argmax(preds[0])\n",
    "386\n",
    "```\n",
    "Annak megjelenítéséhez, hogy a kép mely részei a leginkább afrikai elefántszerűek, állítsuk be a Grad-CAM folyamatot.\n",
    "Először létrehozunk egy modellt, amely a bemeneti képet leképezi az utolsó konvolúciós réteg aktiválásaira.\n",
    "\n",
    "**9.22 lista: Az utolsó konvolúciós kimenetet visszaadó modell beállítása**"
   ]
  },
  {
   "cell_type": "code",
   "execution_count": null,
   "metadata": {
    "id": "6F6IEh-s2IGs"
   },
   "outputs": [],
   "source": [
    "last_conv_layer_name = \"block14_sepconv2_act\"\n",
    "classifier_layer_names = [\n",
    "    \"avg_pool\",\n",
    "    \"predictions\",\n",
    "]\n",
    "last_conv_layer = model.get_layer(last_conv_layer_name)\n",
    "last_conv_layer_model = keras.Model(model.inputs, last_conv_layer.output)"
   ]
  },
  {
   "cell_type": "markdown",
   "metadata": {
    "id": "uYw4N7Mw2cHv"
   },
   "source": [
    "Másodszor, létrehozunk egy modellt, amely leképezi az utolsó konvolúciós réteg aktiválásait a végső osztály-előrejelzésekre.\n",
    "\n",
    "**9.23. lista: Az osztályozó újbóli alkalmazása az utolsó konvolúciós kimenet tetején**"
   ]
  },
  {
   "cell_type": "code",
   "execution_count": null,
   "metadata": {
    "id": "68UjWBCp3h2y"
   },
   "outputs": [],
   "source": [
    "classifier_input = keras.Input(shape=last_conv_layer.output.shape[1:])\n",
    "x = classifier_input\n",
    "for layer_name in classifier_layer_names:\n",
    "    x = model.get_layer(layer_name)(x)\n",
    "classifier_model = keras.Model(classifier_input, x)"
   ]
  },
  {
   "cell_type": "markdown",
   "metadata": {
    "id": "_pjuBCpZ3qJO"
   },
   "source": [
    "Ezután kiszámítjuk a bemeneti képünk legfelső előrejelzett osztályának gradiensét az utolsó konvolúciós réteg aktiválásaihoz képest.\n",
    "\n",
    "**9.24. lista: A legjobb előrejelzett osztály gradienseinek lekérése**"
   ]
  },
  {
   "cell_type": "code",
   "execution_count": null,
   "metadata": {
    "id": "fNjHksvp4OIi"
   },
   "outputs": [],
   "source": [
    "import tensorflow as tf\n",
    "\n",
    "with tf.GradientTape() as tape:\n",
    "    last_conv_layer_output = last_conv_layer_model(img_array)   #<--- Számítsa ki az utolsó konv. réteg aktiválásait,\n",
    "    tape.watch(last_conv_layer_output)                          #     és nézzessük meg a szalaggal.\n",
    "    preds = classifier_model(last_conv_layer_output)            #<--- Keressük ki a legjobb előre jelzett osztálynak\n",
    "                                                                #     megfelelő aktiválási csatornát.\n",
    "    top_pred_index = tf.argmax(preds[0])                        #\n",
    "    top_class_channel = preds[:, top_pred_index]                #\n",
    "\n",
    "grads = tape.gradient(top_class_channel, last_conv_layer_output)  #<--- Ez a legjobb előre jelzett osztály gradiense az utolsó\n",
    "                                                                  #     konvolúciós réteg kimeneti jellemzőtérképét tekintve."
   ]
  },
  {
   "cell_type": "markdown",
   "metadata": {
    "id": "g49KMTHf8tj1"
   },
   "source": [
    "Most a gradienstenzorra összevonást és fontossági súlyozást alkalmazunk, hogy megkapjuk az osztályaktiválás hőtérképét.\n",
    "\n",
    "**9.25 lista: Gradiens pooling és csatorna-fontossági súlyozás**"
   ]
  },
  {
   "cell_type": "code",
   "execution_count": null,
   "metadata": {
    "id": "j47--fdk92zU"
   },
   "outputs": [],
   "source": [
    "pooled_grads = tf.reduce_mean(grads, axis=(0, 1, 2)).numpy()  #<--- Ez egy olyan vektor, ahol minden egyes bejegyzés\n",
    "                                                              #     egy adott csatorna gradiensének átlagos intenzitása.\n",
    "                                                              #     Számszerűsíti az egyes csatornák fontosságát\n",
    "                                                              #     a legjobb előre jelzett osztály tekintetében.\n",
    "last_conv_layer_output = last_conv_layer_output.numpy()[0]\n",
    "for i in range(pooled_grads.shape[-1]):                       #<--- Az utolsó konvolúciós réteg kimenetének minden csatornáját\n",
    "    last_conv_layer_output[:, :, i] *= pooled_grads[i]        #     megszorozzuk azzal, hogy „mennyire fontos ez a csatorna”.\n",
    "heatmap = np.mean(last_conv_layer_output, axis=-1)            #<--- A kapott jellemzőtérkép csatorna szerinti átlaga\n",
    "                                                              #     az osztályaktiválás hőtérképe."
   ]
  },
  {
   "cell_type": "markdown",
   "metadata": {
    "id": "AR8kXZ_FAMIM"
   },
   "source": [
    "Vizualizálás céljából a hőtérképet is normalizáljuk 0 és 1 között. Az eredményt a 9.19. ábra mutatja.\n",
    "\n",
    "**9.26 lista: Hőtérkép utófeldolgozás**"
   ]
  },
  {
   "cell_type": "code",
   "execution_count": null,
   "metadata": {
    "id": "ABb_bx9TAuwD"
   },
   "outputs": [],
   "source": [
    "heatmap = np.maximum(heatmap, 0)\n",
    "heatmap /= np.max(heatmap)\n",
    "plt.matshow(heatmap)"
   ]
  },
  {
   "cell_type": "markdown",
   "metadata": {
    "id": "N2Oxj2xrAzJg"
   },
   "source": [
    "![](figs/f9.19_.jpg)\n",
    "\n",
    "**9.19. ábra:** Különálló osztályaktiválási hőtérkép"
   ]
  },
  {
   "cell_type": "markdown",
   "metadata": {
    "id": "TYfmEBgTCPBn"
   },
   "source": [
    "Végül készítsünk egy képet, amely az eredeti képet az imént kapott hőtérképre helyezi (lásd a 9.20. ábrát).\n",
    "\n",
    "**9.27 lista: A hőtérkép rárakása az eredeti képre**"
   ]
  },
  {
   "cell_type": "code",
   "execution_count": null,
   "metadata": {
    "id": "mIirr8ZVCwzs"
   },
   "outputs": [],
   "source": [
    "import matplotlib.cm as cm\n",
    "\n",
    "img = keras.utils.load_img(img_path)    #<--- Töltse be az eredeti képet.\n",
    "img = keras.utils.img_to_array(img)     #\n",
    "\n",
    "heatmap = np.uint8(255 * heatmap)       #<--- Méretezze át a hőtérképet 0–255 tartományra.\n",
    "\n",
    "jet = cm.get_cmap(\"jet\")                #<--- A hőtérkép újraszínezéséhez használja a \"jet\" színtérképet.\n",
    "jet_colors = jet(np.arange(256))[:, :3] #\n",
    "jet_heatmap = jet_colors[heatmap]       #\n",
    "\n",
    "jet_heatmap = keras.utils.array_to_img(jet_heatmap)           #<--- Hozzon létre egy képet,\n",
    "jet_heatmap = jet_heatmap.resize((img.shape[1], img.shape[0]))#     amely tartalmazza az újraszínezett hőtérképet.\n",
    "jet_heatmap = keras.utils.img_to_array(jet_heatmap)           #\n",
    "\n",
    "superimposed_img = jet_heatmap * 0.4 + img                    #<--- Rakja egymásra a hőtérképet és az eredeti képet úgy,\n",
    "superimposed_img = keras.utils.array_to_img(superimposed_img) #     hogy a hőtérképnek 40%-os átlátszatlansága legyen.\n",
    "\n",
    "save_path = \"elephant_cam.jpg\"          #<--- Mentse el az egymásra helyezett képet.\n",
    "superimposed_img.save(save_path)        #"
   ]
  },
  {
   "cell_type": "markdown",
   "metadata": {
    "id": "divqriYaFi1B"
   },
   "source": [
    "![](figs/f9.20_.jpg)\n",
    "\n",
    "**9.20. ábra:** Afrikai elefánt osztály aktiválási hőtérképe a tesztkép felett"
   ]
  },
  {
   "cell_type": "markdown",
   "metadata": {
    "id": "2P0OsojoGpGh"
   },
   "source": [
    "Ez a vizualizációs technika két fontos kérdésre ad választ:\n",
    "* Miért gondolta a hálózat, hogy ezen a képen afrikai elefánt van?\n",
    "* Hol található a képen látható afrikai elefánt?\n",
    "\n",
    "Különösen érdekes megjegyezni, hogy az elefántborjú fülei erősen aktiválódnak: valószínűleg így tud a hálózat különbséget tenni az afrikai és az indiai elefántok között."
   ]
  },
  {
   "cell_type": "markdown",
   "metadata": {
    "id": "CKLsnpa8HOAc"
   },
   "source": [
    "##**Összegzés**\n",
    "\n",
    "* Három alapvető gépi látási feladatot tudunk elvégezni a mélytanulás során: képosztályozás, képszegmentálás és tárgyészlelés.\n",
    "* A modern convnet architektúra bevált gyakorlatainak követése segít a legtöbbet kihozni a modellekből. A legjobb gyakorlatok közé tartozik a maradék kapcsolatok használata, a kötegelt normalizálás és a mélységben szétválasztható konvolúciók.\n",
    "* A convnetek által megtanult reprezentációk könnyen ellenőrizhetők – a convnet a fekete dobozok ellentéte!\n",
    "* Létrehozhatja a convnetjei által megtanult szűrők vizualizációit, valamint az osztályaktiválásékenység hőtérképét."
   ]
  },
  {
   "cell_type": "code",
   "execution_count": null,
   "metadata": {
    "id": "228j1M3gH_Gj"
   },
   "outputs": [],
   "source": []
  }
 ],
 "metadata": {
  "colab": {
   "authorship_tag": "ABX9TyMxNqEdyqOUvY1ciE1YPYj1",
   "provenance": [],
   "toc_visible": true
  },
  "kernelspec": {
   "display_name": "Python 3 (ipykernel)",
   "language": "python",
   "name": "python3"
  },
  "language_info": {
   "codemirror_mode": {
    "name": "ipython",
    "version": 3
   },
   "file_extension": ".py",
   "mimetype": "text/x-python",
   "name": "python",
   "nbconvert_exporter": "python",
   "pygments_lexer": "ipython3",
   "version": "3.12.1"
  }
 },
 "nbformat": 4,
 "nbformat_minor": 4
}
