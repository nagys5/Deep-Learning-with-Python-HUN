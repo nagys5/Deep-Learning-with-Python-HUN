{
 "cells": [
  {
   "cell_type": "markdown",
   "metadata": {
    "id": "yt49ToBcdeNd"
   },
   "source": [
    "# **9. Haladó mély tanulás a gépi látáshoz**\n",
    "\n",
    "Ez a fejezet ezekkel foglalkozik:\n",
    "* A gépi látás különböző ágai: képosztályozás, képszegmentálás, tárgydetektálás\n",
    "* Modern convnet architektúra minták: maradék kapcsolatok, köteg normalizálás, mélységben szétválasztható konvolúciók\n",
    "* Technikák a convnet által tanultak megjelenítésére és értelmezésére\n",
    "\n",
    "Az előző fejezetben először bemutattuk a gépi látás mély tanulását egyszerű modelleken (`Conv2D` és `MaxPooling2D` rétegek halmaza) és egy egyszerű használati eseten (bináris képosztályozás) keresztül. De a gépi látás többről szól, mint a képbesorolás! Ez a fejezet mélyebben belemerül a változatosabb alkalmazásokba és a legjobb haladó gyakorlatokba."
   ]
  },
  {
   "cell_type": "markdown",
   "metadata": {
    "id": "CwJsMXlhgThu"
   },
   "source": [
    "## 9.1 A három alapvető (számítógépes) gépi látási feladat\n",
    "\n",
    "Eddig a képbesorolási modellekre koncentráltunk: egy kép bemegy, egy címke jön ki. „Ez a kép valószínűleg egy macskát tartalmaz; ezen a másikon valószínűleg egy kutya van.\" A képosztályozás azonban csak egy a gépi látás lehetséges mélytanulási alkalmazásai közül. Általában három alapvető gépi látási feladatot kell ismernie:"
   ]
  },
  {
   "cell_type": "code",
   "execution_count": null,
   "metadata": {
    "id": "dcN7zVz4dB4g"
   },
   "outputs": [],
   "source": []
  }
 ],
 "metadata": {
  "colab": {
   "authorship_tag": "ABX9TyP8e3+tnoN3OIEC+Px6bp95",
   "provenance": [],
   "toc_visible": true
  },
  "kernelspec": {
   "display_name": "Python 3 (ipykernel)",
   "language": "python",
   "name": "python3"
  },
  "language_info": {
   "codemirror_mode": {
    "name": "ipython",
    "version": 3
   },
   "file_extension": ".py",
   "mimetype": "text/x-python",
   "name": "python",
   "nbconvert_exporter": "python",
   "pygments_lexer": "ipython3",
   "version": "3.12.1"
  }
 },
 "nbformat": 4,
 "nbformat_minor": 4
}
