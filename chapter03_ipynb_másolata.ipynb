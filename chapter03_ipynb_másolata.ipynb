{
  "nbformat": 4,
  "nbformat_minor": 0,
  "metadata": {
    "colab": {
      "provenance": [],
      "authorship_tag": "ABX9TyMiFmNYcQ/X3nXOSQh/7eFu",
      "include_colab_link": true
    },
    "kernelspec": {
      "name": "python3",
      "display_name": "Python 3"
    },
    "language_info": {
      "name": "python"
    }
  },
  "cells": [
    {
      "cell_type": "markdown",
      "metadata": {
        "id": "view-in-github",
        "colab_type": "text"
      },
      "source": [
        "<a href=\"https://colab.research.google.com/github/nagys5/Deep-Learning-with-Python-HUN/blob/master/chapter03_ipynb_m%C3%A1solata.ipynb\" target=\"_parent\"><img src=\"https://colab.research.google.com/assets/colab-badge.svg\" alt=\"Open In Colab\"/></a>"
      ]
    },
    {
      "cell_type": "markdown",
      "source": [
        "# **3. A Keras és a TensorFlow bemutatása**\n",
        "\n",
        "Ez a fejezet ezekkel foglalkozik:\n",
        "* A TensorFlow, a Keras és kapcsolatuk közelebbi áttekintése\n",
        "* Mély tanulási munkaterület kialakítása\n",
        "* Áttekintés arról, hogy az alapvető mély tanulási koncepciók hogyan fordíthatók Kerasra és TensorFlow-ra\n",
        "\n",
        "Ez a fejezet mindent megad, amire szüksége van ahhoz, hogy a gyakorlatban mély tanulást végezzen. Gyorsan bemutatom a Keras-t (https://keras.io) és a Tensor-Flow-t (https://tensorflow.org), a Python-alapú mély tanulási eszközöket, amelyeket a könyvben végig használni fogunk. Megtudhatja, hogyan állíthat be mély tanulási munkaterületet TensorFlow, Keras és GPU támogatással. Végül a 2. fejezetben a Kerasszal és a TensorFlow-val felvett első kapcsolatra építve áttekintjük a neurális hálózatok alapvető összetevőit, és azt, hogy ezek hogyan fordíthatók át a Keras és TensorFlow API-kra.\n",
        "A fejezet végére készen áll arra, hogy áttérjen a gyakorlati, valós alkalmazásokra, amelyek a 4. fejezettel kezdődnek."
      ],
      "metadata": {
        "id": "y8eYzgoiXD5w"
      }
    },
    {
      "cell_type": "markdown",
      "source": [
        "## 3.1 Mi az a TensorFlow?\n",
        "\n",
        "A TensorFlow egy Python-alapú, ingyenes, nyílt forráskódú gépi tanulási platform, amelyet elsősorban a Google fejlesztett ki. A NumPy-hoz hasonlóan a TensorFlow elsődleges célja, hogy lehetővé tegye a mérnököknek és kutatóknak a matematikai kifejezések manipulálását numerikus tenzorokon keresztül. De a TensorFlow a következő módokon messze túlmutat a NumPy hatókörén:"
      ],
      "metadata": {
        "id": "Oq9xxOGIZr3-"
      }
    },
    {
      "cell_type": "code",
      "execution_count": null,
      "metadata": {
        "id": "j1UUyIQ6W4yg"
      },
      "outputs": [],
      "source": []
    }
  ]
}